{
 "cells": [
  {
   "cell_type": "code",
   "execution_count": 1,
   "id": "3d7f2d8f",
   "metadata": {
    "ExecuteTime": {
     "end_time": "2023-06-10T03:53:55.313711Z",
     "start_time": "2023-06-10T03:53:54.490984Z"
    }
   },
   "outputs": [],
   "source": [
    "import a2\n",
    "import pandas as pd\n",
    "CAMINHO = \"paralisiainfantil.csv\""
   ]
  },
  {
   "cell_type": "code",
   "execution_count": 2,
   "id": "ea11b3de",
   "metadata": {
    "ExecuteTime": {
     "end_time": "2023-06-10T03:53:55.335909Z",
     "start_time": "2023-06-10T03:53:55.315063Z"
    }
   },
   "outputs": [
    {
     "data": {
      "text/plain": [
       "475"
      ]
     },
     "execution_count": 2,
     "metadata": {},
     "output_type": "execute_result"
    }
   ],
   "source": [
    "a2.questao_1(CAMINHO)"
   ]
  },
  {
   "cell_type": "code",
   "execution_count": 3,
   "id": "dbd84b80",
   "metadata": {
    "ExecuteTime": {
     "end_time": "2023-06-10T03:53:55.354142Z",
     "start_time": "2023-06-10T03:53:55.337513Z"
    }
   },
   "outputs": [
    {
     "data": {
      "text/plain": [
       "261160    62\n",
       "355030    28\n",
       "211130    21\n",
       "130260    20\n",
       "250750    18\n",
       "          ..\n",
       "430460     1\n",
       "170255     1\n",
       "421580     1\n",
       "353080     1\n",
       "171880     1\n",
       "Name: ID_MUNICIP, Length: 120, dtype: int64"
      ]
     },
     "execution_count": 3,
     "metadata": {},
     "output_type": "execute_result"
    }
   ],
   "source": [
    "a2.questao_2(CAMINHO)"
   ]
  },
  {
   "cell_type": "code",
   "execution_count": 4,
   "id": "ae59e191",
   "metadata": {
    "ExecuteTime": {
     "end_time": "2023-06-10T03:53:55.368335Z",
     "start_time": "2023-06-10T03:53:55.355215Z"
    }
   },
   "outputs": [
    {
     "data": {
      "text/plain": [
       "('M', {'M': 271, 'F': 204})"
      ]
     },
     "execution_count": 4,
     "metadata": {},
     "output_type": "execute_result"
    }
   ],
   "source": [
    "a2.questao_3(CAMINHO)"
   ]
  },
  {
   "cell_type": "code",
   "execution_count": 5,
   "id": "888d1218",
   "metadata": {
    "ExecuteTime": {
     "end_time": "2023-06-10T03:53:55.383491Z",
     "start_time": "2023-06-10T03:53:55.369490Z"
    }
   },
   "outputs": [
    {
     "data": {
      "text/plain": [
       "6.441403508771931"
      ]
     },
     "execution_count": 5,
     "metadata": {},
     "output_type": "execute_result"
    }
   ],
   "source": [
    "a2.questao_4(CAMINHO)"
   ]
  },
  {
   "cell_type": "code",
   "execution_count": 6,
   "id": "45a16c78",
   "metadata": {
    "ExecuteTime": {
     "end_time": "2023-06-10T03:53:55.399359Z",
     "start_time": "2023-06-10T03:53:55.384787Z"
    }
   },
   "outputs": [
    {
     "data": {
      "text/plain": [
       "{'SP': 76,\n",
       " 'PE': 62,\n",
       " 'PR': 41,\n",
       " 'MG': 40,\n",
       " 'BA': 35,\n",
       " 'RS': 26,\n",
       " 'MA': 22,\n",
       " 'RJ': 21,\n",
       " 'AM': 20,\n",
       " 'PB': 18,\n",
       " 'AL': 13,\n",
       " 'RN': 12,\n",
       " 'PA': 11,\n",
       " 'PI': 11,\n",
       " 'GO': 10,\n",
       " 'TO': 9,\n",
       " 'SE': 9,\n",
       " 'DF': 8,\n",
       " 'RO': 5,\n",
       " 'MS': 5,\n",
       " 'MT': 4,\n",
       " 'CE': 4,\n",
       " 'ES': 4,\n",
       " 'AC': 3,\n",
       " 'SC': 3,\n",
       " 'AP': 3}"
      ]
     },
     "execution_count": 6,
     "metadata": {},
     "output_type": "execute_result"
    }
   ],
   "source": [
    "a2.questao_5(CAMINHO)"
   ]
  },
  {
   "cell_type": "code",
   "execution_count": 7,
   "id": "7d9c0d65",
   "metadata": {
    "ExecuteTime": {
     "end_time": "2023-06-10T03:53:55.418206Z",
     "start_time": "2023-06-10T03:53:55.400827Z"
    }
   },
   "outputs": [
    {
     "data": {
      "text/plain": [
       "{'SP': 43,\n",
       " 'PE': 34,\n",
       " 'BA': 27,\n",
       " 'PR': 27,\n",
       " 'MG': 19,\n",
       " 'RS': 18,\n",
       " 'RJ': 12,\n",
       " 'PB': 11,\n",
       " 'AM': 9,\n",
       " 'MA': 9,\n",
       " 'AL': 8,\n",
       " 'PI': 8,\n",
       " 'TO': 6,\n",
       " 'SE': 6,\n",
       " 'DF': 5,\n",
       " 'RN': 5,\n",
       " 'GO': 4,\n",
       " 'PA': 4,\n",
       " 'CE': 4,\n",
       " 'RO': 3,\n",
       " 'MS': 3,\n",
       " 'AC': 2,\n",
       " 'MT': 2,\n",
       " 'SC': 1,\n",
       " 'AP': 1}"
      ]
     },
     "execution_count": 7,
     "metadata": {},
     "output_type": "execute_result"
    }
   ],
   "source": [
    "a2.questao_6(CAMINHO)"
   ]
  },
  {
   "cell_type": "code",
   "execution_count": 8,
   "id": "0812fc6b",
   "metadata": {
    "ExecuteTime": {
     "end_time": "2023-06-10T03:53:55.436564Z",
     "start_time": "2023-06-10T03:53:55.419257Z"
    }
   },
   "outputs": [
    {
     "data": {
      "text/plain": [
       "{'AC': 0.09090909090909091,\n",
       " 'AL': 0.0196078431372549,\n",
       " 'AP': 0.0625,\n",
       " 'AM': 0.016129032258064516,\n",
       " 'BA': 0.016786570743405275,\n",
       " 'CE': 0.005434782608695652,\n",
       " 'DF': 1.0,\n",
       " 'ES': 0.038461538461538464,\n",
       " 'GO': 0.008130081300813009,\n",
       " 'MA': 0.009216589861751152,\n",
       " 'MT': 0.014184397163120567,\n",
       " 'MS': 0.02531645569620253,\n",
       " 'MG': 0.017584994138335287,\n",
       " 'PA': 0.034722222222222224,\n",
       " 'PB': 0.004484304932735426,\n",
       " 'PR': 0.047619047619047616,\n",
       " 'PE': 0.005405405405405406,\n",
       " 'PI': 0.004464285714285714,\n",
       " 'RN': 0.011976047904191617,\n",
       " 'RS': 0.018108651911468814,\n",
       " 'RJ': 0.04395604395604396,\n",
       " 'RO': 0.019230769230769232,\n",
       " 'RR': 0.0,\n",
       " 'SC': 0.010169491525423728,\n",
       " 'SP': 0.043410852713178294,\n",
       " 'SE': 0.013333333333333334,\n",
       " 'TO': 0.02877697841726619}"
      ]
     },
     "execution_count": 8,
     "metadata": {},
     "output_type": "execute_result"
    }
   ],
   "source": [
    "a2.questao_7(CAMINHO)"
   ]
  },
  {
   "cell_type": "code",
   "execution_count": 9,
   "id": "af2c8238",
   "metadata": {
    "ExecuteTime": {
     "end_time": "2023-06-10T03:53:55.471454Z",
     "start_time": "2023-06-10T03:53:55.438436Z"
    }
   },
   "outputs": [
    {
     "name": "stderr",
     "output_type": "stream",
     "text": [
      "/home/pedro/Modelos/Python/Aulas IC/Projeto-A2-IC/Descrição/a2.py:81: PerformanceWarning: DataFrame is highly fragmented.  This is usually the result of calling `frame.insert` many times, which has poor performance.  Consider joining all columns at once using pd.concat(axis=1) instead. To get a de-fragmented frame, use `newframe = frame.copy()`\n",
      "  df[\"DT_NOTIFICACAO\"] = pd.to_datetime(df[\"DT_NOTIFIC\"])\n",
      "/home/pedro/Modelos/Python/Aulas IC/Projeto-A2-IC/Descrição/a2.py:82: PerformanceWarning: DataFrame is highly fragmented.  This is usually the result of calling `frame.insert` many times, which has poor performance.  Consider joining all columns at once using pd.concat(axis=1) instead. To get a de-fragmented frame, use `newframe = frame.copy()`\n",
      "  df[\"DT_SINTOMAS\"] = pd.to_datetime(df[\"DT_SIN_PRI\"])\n",
      "/home/pedro/Modelos/Python/Aulas IC/Projeto-A2-IC/Descrição/a2.py:83: PerformanceWarning: DataFrame is highly fragmented.  This is usually the result of calling `frame.insert` many times, which has poor performance.  Consider joining all columns at once using pd.concat(axis=1) instead. To get a de-fragmented frame, use `newframe = frame.copy()`\n",
      "  df[\"ATRASO_NOT\"] = (df[\"DT_NOTIFICACAO\"] - df[\"DT_SINTOMAS\"]).dt.days\n"
     ]
    },
    {
     "data": {
      "text/html": [
       "<div>\n",
       "<style scoped>\n",
       "    .dataframe tbody tr th:only-of-type {\n",
       "        vertical-align: middle;\n",
       "    }\n",
       "\n",
       "    .dataframe tbody tr th {\n",
       "        vertical-align: top;\n",
       "    }\n",
       "\n",
       "    .dataframe thead th {\n",
       "        text-align: right;\n",
       "    }\n",
       "</style>\n",
       "<table border=\"1\" class=\"dataframe\">\n",
       "  <thead>\n",
       "    <tr style=\"text-align: right;\">\n",
       "      <th></th>\n",
       "      <th>DT_NOTIFICACAO</th>\n",
       "      <th>DT_SINTOMAS</th>\n",
       "      <th>ATRASO_NOT</th>\n",
       "    </tr>\n",
       "  </thead>\n",
       "  <tbody>\n",
       "    <tr>\n",
       "      <th>0</th>\n",
       "      <td>2015-01-05</td>\n",
       "      <td>2015-01-03</td>\n",
       "      <td>2</td>\n",
       "    </tr>\n",
       "    <tr>\n",
       "      <th>1</th>\n",
       "      <td>2015-01-06</td>\n",
       "      <td>2015-01-05</td>\n",
       "      <td>1</td>\n",
       "    </tr>\n",
       "    <tr>\n",
       "      <th>2</th>\n",
       "      <td>2015-01-06</td>\n",
       "      <td>2015-01-01</td>\n",
       "      <td>5</td>\n",
       "    </tr>\n",
       "    <tr>\n",
       "      <th>3</th>\n",
       "      <td>2015-01-12</td>\n",
       "      <td>2015-01-06</td>\n",
       "      <td>6</td>\n",
       "    </tr>\n",
       "    <tr>\n",
       "      <th>4</th>\n",
       "      <td>2015-01-12</td>\n",
       "      <td>2015-01-10</td>\n",
       "      <td>2</td>\n",
       "    </tr>\n",
       "    <tr>\n",
       "      <th>...</th>\n",
       "      <td>...</td>\n",
       "      <td>...</td>\n",
       "      <td>...</td>\n",
       "    </tr>\n",
       "    <tr>\n",
       "      <th>470</th>\n",
       "      <td>2016-01-29</td>\n",
       "      <td>2015-12-24</td>\n",
       "      <td>36</td>\n",
       "    </tr>\n",
       "    <tr>\n",
       "      <th>471</th>\n",
       "      <td>2016-02-01</td>\n",
       "      <td>2015-12-31</td>\n",
       "      <td>32</td>\n",
       "    </tr>\n",
       "    <tr>\n",
       "      <th>472</th>\n",
       "      <td>2016-02-03</td>\n",
       "      <td>2015-12-11</td>\n",
       "      <td>54</td>\n",
       "    </tr>\n",
       "    <tr>\n",
       "      <th>473</th>\n",
       "      <td>2016-02-18</td>\n",
       "      <td>2015-12-06</td>\n",
       "      <td>74</td>\n",
       "    </tr>\n",
       "    <tr>\n",
       "      <th>474</th>\n",
       "      <td>2016-02-19</td>\n",
       "      <td>2015-10-04</td>\n",
       "      <td>138</td>\n",
       "    </tr>\n",
       "  </tbody>\n",
       "</table>\n",
       "<p>475 rows × 3 columns</p>\n",
       "</div>"
      ],
      "text/plain": [
       "    DT_NOTIFICACAO DT_SINTOMAS  ATRASO_NOT\n",
       "0       2015-01-05  2015-01-03           2\n",
       "1       2015-01-06  2015-01-05           1\n",
       "2       2015-01-06  2015-01-01           5\n",
       "3       2015-01-12  2015-01-06           6\n",
       "4       2015-01-12  2015-01-10           2\n",
       "..             ...         ...         ...\n",
       "470     2016-01-29  2015-12-24          36\n",
       "471     2016-02-01  2015-12-31          32\n",
       "472     2016-02-03  2015-12-11          54\n",
       "473     2016-02-18  2015-12-06          74\n",
       "474     2016-02-19  2015-10-04         138\n",
       "\n",
       "[475 rows x 3 columns]"
      ]
     },
     "execution_count": 9,
     "metadata": {},
     "output_type": "execute_result"
    }
   ],
   "source": [
    "a2.questao_8(CAMINHO)"
   ]
  },
  {
   "cell_type": "code",
   "execution_count": 10,
   "id": "e7eceaa2",
   "metadata": {
    "ExecuteTime": {
     "end_time": "2023-06-10T03:53:55.502620Z",
     "start_time": "2023-06-10T03:53:55.472521Z"
    }
   },
   "outputs": [
    {
     "name": "stderr",
     "output_type": "stream",
     "text": [
      "/home/pedro/Modelos/Python/Aulas IC/Projeto-A2-IC/Descrição/a2.py:91: PerformanceWarning: DataFrame is highly fragmented.  This is usually the result of calling `frame.insert` many times, which has poor performance.  Consider joining all columns at once using pd.concat(axis=1) instead. To get a de-fragmented frame, use `newframe = frame.copy()`\n",
      "  df[\"DT_NOTIFICACAO\"] = pd.to_datetime(df[\"DT_NOTIFIC\"])\n",
      "/home/pedro/Modelos/Python/Aulas IC/Projeto-A2-IC/Descrição/a2.py:92: PerformanceWarning: DataFrame is highly fragmented.  This is usually the result of calling `frame.insert` many times, which has poor performance.  Consider joining all columns at once using pd.concat(axis=1) instead. To get a de-fragmented frame, use `newframe = frame.copy()`\n",
      "  df[\"DT_SINTOMAS\"] = pd.to_datetime(df[\"DT_SIN_PRI\"])\n",
      "/home/pedro/Modelos/Python/Aulas IC/Projeto-A2-IC/Descrição/a2.py:93: PerformanceWarning: DataFrame is highly fragmented.  This is usually the result of calling `frame.insert` many times, which has poor performance.  Consider joining all columns at once using pd.concat(axis=1) instead. To get a de-fragmented frame, use `newframe = frame.copy()`\n",
      "  df[\"ATRASO_NOT\"] = (df[\"DT_NOTIFICACAO\"] - df[\"DT_SINTOMAS\"]).dt.days\n"
     ]
    },
    {
     "data": {
      "text/plain": [
       "{'AC': (3.0, 0.0),\n",
       " 'AL': (9.153846153846153, 5.610201331000428),\n",
       " 'AP': (26.0, 16.522711641858304),\n",
       " 'AM': (8.1, 8.64443843112285),\n",
       " 'BA': (8.457142857142857, 7.901388028258658),\n",
       " 'CE': (8.0, 9.018499505645789),\n",
       " 'DF': (5.75, 6.341473465550866),\n",
       " 'ES': (6.5, 4.79583152331272),\n",
       " 'GO': (7.5, 10.51189802081432),\n",
       " 'MA': (13.5, 15.045170084021745),\n",
       " 'MT': (18.25, 10.812801055539063),\n",
       " 'MS': (4.4, 1.6733200530681511),\n",
       " 'MG': (15.9, 28.870000399669607),\n",
       " 'PA': (14.363636363636363, 16.70492578416754),\n",
       " 'PB': (4.666666666666667, 3.9556363361069242),\n",
       " 'PR': (13.170731707317072, 25.040869033466464),\n",
       " 'PE': (17.693548387096776, 50.74674784368685),\n",
       " 'PI': (11.454545454545455, 9.363371576132566),\n",
       " 'RN': (5.333333333333333, 3.3933982252531925),\n",
       " 'RS': (39.42307692307692, 56.28866534351162),\n",
       " 'RJ': (42.904761904761905, 54.265002314479595),\n",
       " 'RO': (3.6, 2.3021728866442674),\n",
       " 'RR': (0, 0),\n",
       " 'SC': (8.0, 11.357816691600547),\n",
       " 'SP': (19.42105263157895, 30.028547820541146),\n",
       " 'SE': (6.333333333333333, 5.04975246918104),\n",
       " 'TO': (29.22222222222222, 31.30406434385868)}"
      ]
     },
     "execution_count": 10,
     "metadata": {},
     "output_type": "execute_result"
    }
   ],
   "source": [
    "a2.questao_9(CAMINHO)"
   ]
  },
  {
   "cell_type": "code",
   "execution_count": 11,
   "id": "d318c2d0",
   "metadata": {
    "ExecuteTime": {
     "end_time": "2023-06-10T03:53:55.667704Z",
     "start_time": "2023-06-10T03:53:55.503726Z"
    }
   },
   "outputs": [
    {
     "name": "stderr",
     "output_type": "stream",
     "text": [
      "/home/pedro/Modelos/Python/Aulas IC/Projeto-A2-IC/Descrição/a2.py:106: PerformanceWarning: DataFrame is highly fragmented.  This is usually the result of calling `frame.insert` many times, which has poor performance.  Consider joining all columns at once using pd.concat(axis=1) instead. To get a de-fragmented frame, use `newframe = frame.copy()`\n",
      "  df[\"DT_NOTIFICACAO\"] = pd.to_datetime(df[\"DT_NOTIFIC\"])\n",
      "/home/pedro/Modelos/Python/Aulas IC/Projeto-A2-IC/Descrição/a2.py:107: PerformanceWarning: DataFrame is highly fragmented.  This is usually the result of calling `frame.insert` many times, which has poor performance.  Consider joining all columns at once using pd.concat(axis=1) instead. To get a de-fragmented frame, use `newframe = frame.copy()`\n",
      "  df[\"DT_SINTOMAS\"] = pd.to_datetime(df[\"DT_SIN_PRI\"])\n",
      "/home/pedro/Modelos/Python/Aulas IC/Projeto-A2-IC/Descrição/a2.py:108: PerformanceWarning: DataFrame is highly fragmented.  This is usually the result of calling `frame.insert` many times, which has poor performance.  Consider joining all columns at once using pd.concat(axis=1) instead. To get a de-fragmented frame, use `newframe = frame.copy()`\n",
      "  df[\"ATRASO_NOT\"] = (df[\"DT_NOTIFICACAO\"] - df[\"DT_SINTOMAS\"]).dt.days\n",
      "/home/pedro/Modelos/Python/Aulas IC/pythonsus/.venv/lib/python3.10/site-packages/pandas/plotting/_matplotlib/core.py:1114: UserWarning: No data for colormapping provided via 'c'. Parameters 'cmap' will be ignored\n",
      "  scatter = ax.scatter(\n"
     ]
    },
    {
     "data": {
      "text/plain": [
       "ID_MUNICIP\n",
       "110020     3.600000\n",
       "120010     3.000000\n",
       "120040     3.000000\n",
       "130260     8.100000\n",
       "150140    10.333333\n",
       "            ...    \n",
       "510250    16.000000\n",
       "510340    19.000000\n",
       "520870     7.888889\n",
       "521250     4.000000\n",
       "530010     5.750000\n",
       "Name: ATRASO_NOT, Length: 120, dtype: float64"
      ]
     },
     "execution_count": 11,
     "metadata": {},
     "output_type": "execute_result"
    },
    {
     "data": {
      "image/png": "[encoded data removed]",
      "text/plain": [
       "<Figure size 640x480 with 1 Axes>"
      ]
     },
     "metadata": {},
     "output_type": "display_data"
    }
   ],
   "source": [
    "a2.questao_10(CAMINHO)"
   ]
  },
  {
   "cell_type": "code",
   "execution_count": 12,
   "id": "dc3f5e70",
   "metadata": {
    "ExecuteTime": {
     "end_time": "2023-06-10T03:53:55.671498Z",
     "start_time": "2023-06-10T03:53:55.668848Z"
    }
   },
   "outputs": [],
   "source": [
    "dicionario_estados = {\n",
    "    12:\"AC\", 27:\"AL\", 16:\"AP\", 13:\"AM\", 29:\"BA\", 23:\"CE\", 53:\"DF\", 32:\"ES\",\n",
    "    52:\"GO\", 21:\"MA\", 51:\"MT\", 50:\"MS\", 31:\"MG\", 15:\"PA\", 25:\"PB\", 41:\"PR\",\n",
    "    26:\"PE\", 22:\"PI\", 24:\"RN\", 43:\"RS\", 33:\"RJ\", 11:\"RO\", 14:\"RR\", 42:\"SC\",\n",
    "    35:\"SP\", 28:\"SE\", 17:\"TO\"\n",
    "}"
   ]
  },
  {
   "cell_type": "code",
   "execution_count": 13,
   "id": "80fe4b40",
   "metadata": {
    "ExecuteTime": {
     "end_time": "2023-06-10T03:53:55.688800Z",
     "start_time": "2023-06-10T03:53:55.672848Z"
    }
   },
   "outputs": [],
   "source": [
    "df = pd.read_csv(CAMINHO)"
   ]
  },
  {
   "cell_type": "code",
   "execution_count": 14,
   "id": "d28a7a38",
   "metadata": {
    "ExecuteTime": {
     "end_time": "2023-06-10T03:53:55.708962Z",
     "start_time": "2023-06-10T03:53:55.689942Z"
    }
   },
   "outputs": [
    {
     "name": "stderr",
     "output_type": "stream",
     "text": [
      "/tmp/ipykernel_34805/196557841.py:3: PerformanceWarning: DataFrame is highly fragmented.  This is usually the result of calling `frame.insert` many times, which has poor performance.  Consider joining all columns at once using pd.concat(axis=1) instead. To get a de-fragmented frame, use `newframe = frame.copy()`\n",
      "  df[\"DT_NOTIFICACAO\"] = pd.to_datetime(df[\"DT_NOTIFIC\"])\n",
      "/tmp/ipykernel_34805/196557841.py:4: PerformanceWarning: DataFrame is highly fragmented.  This is usually the result of calling `frame.insert` many times, which has poor performance.  Consider joining all columns at once using pd.concat(axis=1) instead. To get a de-fragmented frame, use `newframe = frame.copy()`\n",
      "  df[\"DT_SINTOMAS\"] = pd.to_datetime(df[\"DT_SIN_PRI\"])\n",
      "/tmp/ipykernel_34805/196557841.py:5: PerformanceWarning: DataFrame is highly fragmented.  This is usually the result of calling `frame.insert` many times, which has poor performance.  Consider joining all columns at once using pd.concat(axis=1) instead. To get a de-fragmented frame, use `newframe = frame.copy()`\n",
      "  df[\"ATRASO_NOT\"] = (df[\"DT_NOTIFICACAO\"] - df[\"DT_SINTOMAS\"]).dt.days\n"
     ]
    }
   ],
   "source": [
    "df[\"SG_UF_NOT\"] = df[\"SG_UF_NOT\"].replace(dicionario_estados)\n",
    "df = df.astype({\"DT_NOTIFIC\": str, \"DT_SIN_PRI\": str})\n",
    "df[\"DT_NOTIFICACAO\"] = pd.to_datetime(df[\"DT_NOTIFIC\"])\n",
    "df[\"DT_SINTOMAS\"] = pd.to_datetime(df[\"DT_SIN_PRI\"])\n",
    "df[\"ATRASO_NOT\"] = (df[\"DT_NOTIFICACAO\"] - df[\"DT_SINTOMAS\"]).dt.days"
   ]
  },
  {
   "cell_type": "code",
   "execution_count": 15,
   "id": "b5698137",
   "metadata": {
    "ExecuteTime": {
     "end_time": "2023-06-10T03:53:55.725409Z",
     "start_time": "2023-06-10T03:53:55.710069Z"
    }
   },
   "outputs": [
    {
     "data": {
      "text/html": [
       "<div>\n",
       "<style scoped>\n",
       "    .dataframe tbody tr th:only-of-type {\n",
       "        vertical-align: middle;\n",
       "    }\n",
       "\n",
       "    .dataframe tbody tr th {\n",
       "        vertical-align: top;\n",
       "    }\n",
       "\n",
       "    .dataframe thead th {\n",
       "        text-align: right;\n",
       "    }\n",
       "</style>\n",
       "<table border=\"1\" class=\"dataframe\">\n",
       "  <thead>\n",
       "    <tr style=\"text-align: right;\">\n",
       "      <th></th>\n",
       "      <th>Unnamed: 0</th>\n",
       "      <th>TP_NOT</th>\n",
       "      <th>ID_AGRAVO</th>\n",
       "      <th>DT_NOTIFIC</th>\n",
       "      <th>SEM_NOT</th>\n",
       "      <th>NU_ANO</th>\n",
       "      <th>SG_UF_NOT</th>\n",
       "      <th>ID_MUNICIP</th>\n",
       "      <th>ID_REGIONA</th>\n",
       "      <th>ID_UNIDADE</th>\n",
       "      <th>...</th>\n",
       "      <th>EVOR1_DT_R</th>\n",
       "      <th>CLASSI_FIN</th>\n",
       "      <th>CRITERIO</th>\n",
       "      <th>CON_DESCAR</th>\n",
       "      <th>EVOLUCAO</th>\n",
       "      <th>DT_OBITO</th>\n",
       "      <th>DT_ENCERRA</th>\n",
       "      <th>DT_NOTIFICACAO</th>\n",
       "      <th>DT_SINTOMAS</th>\n",
       "      <th>ATRASO_NOT</th>\n",
       "    </tr>\n",
       "  </thead>\n",
       "  <tbody>\n",
       "    <tr>\n",
       "      <th>58</th>\n",
       "      <td>58</td>\n",
       "      <td>2</td>\n",
       "      <td>A809</td>\n",
       "      <td>20150223</td>\n",
       "      <td>201508</td>\n",
       "      <td>2015</td>\n",
       "      <td>AL</td>\n",
       "      <td>270510</td>\n",
       "      <td>1534</td>\n",
       "      <td>2722100</td>\n",
       "      <td>...</td>\n",
       "      <td></td>\n",
       "      <td>4</td>\n",
       "      <td>1</td>\n",
       "      <td>G72.3</td>\n",
       "      <td>2</td>\n",
       "      <td></td>\n",
       "      <td>20150420</td>\n",
       "      <td>2015-02-23</td>\n",
       "      <td>2015-02-20</td>\n",
       "      <td>3</td>\n",
       "    </tr>\n",
       "    <tr>\n",
       "      <th>116</th>\n",
       "      <td>116</td>\n",
       "      <td>2</td>\n",
       "      <td>A809</td>\n",
       "      <td>20150418</td>\n",
       "      <td>201515</td>\n",
       "      <td>2015</td>\n",
       "      <td>AL</td>\n",
       "      <td>270430</td>\n",
       "      <td>1533</td>\n",
       "      <td>2006510</td>\n",
       "      <td>...</td>\n",
       "      <td></td>\n",
       "      <td>4</td>\n",
       "      <td>1</td>\n",
       "      <td>G72.3</td>\n",
       "      <td>2</td>\n",
       "      <td></td>\n",
       "      <td>20150526</td>\n",
       "      <td>2015-04-18</td>\n",
       "      <td>2015-04-11</td>\n",
       "      <td>7</td>\n",
       "    </tr>\n",
       "    <tr>\n",
       "      <th>152</th>\n",
       "      <td>152</td>\n",
       "      <td>2</td>\n",
       "      <td>A809</td>\n",
       "      <td>20150519</td>\n",
       "      <td>201520</td>\n",
       "      <td>2015</td>\n",
       "      <td>AL</td>\n",
       "      <td>270430</td>\n",
       "      <td>1533</td>\n",
       "      <td>2006510</td>\n",
       "      <td>...</td>\n",
       "      <td></td>\n",
       "      <td>4</td>\n",
       "      <td>1</td>\n",
       "      <td>G72.9</td>\n",
       "      <td>2</td>\n",
       "      <td></td>\n",
       "      <td>20150617</td>\n",
       "      <td>2015-05-19</td>\n",
       "      <td>2015-05-12</td>\n",
       "      <td>7</td>\n",
       "    </tr>\n",
       "    <tr>\n",
       "      <th>153</th>\n",
       "      <td>153</td>\n",
       "      <td>2</td>\n",
       "      <td>A809</td>\n",
       "      <td>20150520</td>\n",
       "      <td>201520</td>\n",
       "      <td>2015</td>\n",
       "      <td>AL</td>\n",
       "      <td>270430</td>\n",
       "      <td>1533</td>\n",
       "      <td>2006510</td>\n",
       "      <td>...</td>\n",
       "      <td></td>\n",
       "      <td>4</td>\n",
       "      <td>1</td>\n",
       "      <td>G72.9</td>\n",
       "      <td>2</td>\n",
       "      <td></td>\n",
       "      <td>20150624</td>\n",
       "      <td>2015-05-20</td>\n",
       "      <td>2015-05-13</td>\n",
       "      <td>7</td>\n",
       "    </tr>\n",
       "    <tr>\n",
       "      <th>154</th>\n",
       "      <td>154</td>\n",
       "      <td>2</td>\n",
       "      <td>A809</td>\n",
       "      <td>20150520</td>\n",
       "      <td>201520</td>\n",
       "      <td>2015</td>\n",
       "      <td>AL</td>\n",
       "      <td>270430</td>\n",
       "      <td>1533</td>\n",
       "      <td>2006510</td>\n",
       "      <td>...</td>\n",
       "      <td></td>\n",
       "      <td>4</td>\n",
       "      <td>1</td>\n",
       "      <td>G72.9</td>\n",
       "      <td>2</td>\n",
       "      <td></td>\n",
       "      <td>20150615</td>\n",
       "      <td>2015-05-20</td>\n",
       "      <td>2015-05-09</td>\n",
       "      <td>11</td>\n",
       "    </tr>\n",
       "    <tr>\n",
       "      <th>171</th>\n",
       "      <td>171</td>\n",
       "      <td>2</td>\n",
       "      <td>A809</td>\n",
       "      <td>20150605</td>\n",
       "      <td>201522</td>\n",
       "      <td>2015</td>\n",
       "      <td>AL</td>\n",
       "      <td>270430</td>\n",
       "      <td>1533</td>\n",
       "      <td>2006510</td>\n",
       "      <td>...</td>\n",
       "      <td></td>\n",
       "      <td>4</td>\n",
       "      <td>1</td>\n",
       "      <td>G72.9</td>\n",
       "      <td>2</td>\n",
       "      <td></td>\n",
       "      <td>20150709</td>\n",
       "      <td>2015-06-05</td>\n",
       "      <td>2015-05-20</td>\n",
       "      <td>16</td>\n",
       "    </tr>\n",
       "    <tr>\n",
       "      <th>172</th>\n",
       "      <td>172</td>\n",
       "      <td>2</td>\n",
       "      <td>A809</td>\n",
       "      <td>20150605</td>\n",
       "      <td>201522</td>\n",
       "      <td>2015</td>\n",
       "      <td>AL</td>\n",
       "      <td>270430</td>\n",
       "      <td>1533</td>\n",
       "      <td>2006510</td>\n",
       "      <td>...</td>\n",
       "      <td></td>\n",
       "      <td>4</td>\n",
       "      <td>1</td>\n",
       "      <td>G72.9</td>\n",
       "      <td>2</td>\n",
       "      <td></td>\n",
       "      <td>20150709</td>\n",
       "      <td>2015-06-05</td>\n",
       "      <td>2015-05-22</td>\n",
       "      <td>14</td>\n",
       "    </tr>\n",
       "    <tr>\n",
       "      <th>178</th>\n",
       "      <td>178</td>\n",
       "      <td>2</td>\n",
       "      <td>A809</td>\n",
       "      <td>20150615</td>\n",
       "      <td>201524</td>\n",
       "      <td>2015</td>\n",
       "      <td>AL</td>\n",
       "      <td>270430</td>\n",
       "      <td>1533</td>\n",
       "      <td>2006510</td>\n",
       "      <td>...</td>\n",
       "      <td></td>\n",
       "      <td>4</td>\n",
       "      <td>1</td>\n",
       "      <td>G72.9</td>\n",
       "      <td>2</td>\n",
       "      <td></td>\n",
       "      <td>20150720</td>\n",
       "      <td>2015-06-15</td>\n",
       "      <td>2015-05-28</td>\n",
       "      <td>18</td>\n",
       "    </tr>\n",
       "    <tr>\n",
       "      <th>209</th>\n",
       "      <td>209</td>\n",
       "      <td>2</td>\n",
       "      <td>A809</td>\n",
       "      <td>20150707</td>\n",
       "      <td>201527</td>\n",
       "      <td>2015</td>\n",
       "      <td>AL</td>\n",
       "      <td>270430</td>\n",
       "      <td>1533</td>\n",
       "      <td>2006510</td>\n",
       "      <td>...</td>\n",
       "      <td></td>\n",
       "      <td>4</td>\n",
       "      <td>1</td>\n",
       "      <td>G72.3</td>\n",
       "      <td></td>\n",
       "      <td></td>\n",
       "      <td>20150810</td>\n",
       "      <td>2015-07-07</td>\n",
       "      <td>2015-06-19</td>\n",
       "      <td>18</td>\n",
       "    </tr>\n",
       "    <tr>\n",
       "      <th>313</th>\n",
       "      <td>313</td>\n",
       "      <td>2</td>\n",
       "      <td>A809</td>\n",
       "      <td>20150914</td>\n",
       "      <td>201537</td>\n",
       "      <td>2015</td>\n",
       "      <td>AL</td>\n",
       "      <td>270430</td>\n",
       "      <td>1533</td>\n",
       "      <td>2006510</td>\n",
       "      <td>...</td>\n",
       "      <td></td>\n",
       "      <td>4</td>\n",
       "      <td>1</td>\n",
       "      <td>G72.9</td>\n",
       "      <td>2</td>\n",
       "      <td></td>\n",
       "      <td>20151014</td>\n",
       "      <td>2015-09-14</td>\n",
       "      <td>2015-09-12</td>\n",
       "      <td>2</td>\n",
       "    </tr>\n",
       "    <tr>\n",
       "      <th>328</th>\n",
       "      <td>328</td>\n",
       "      <td>2</td>\n",
       "      <td>A809</td>\n",
       "      <td>20150921</td>\n",
       "      <td>201538</td>\n",
       "      <td>2015</td>\n",
       "      <td>AL</td>\n",
       "      <td>270430</td>\n",
       "      <td>1533</td>\n",
       "      <td>2006510</td>\n",
       "      <td>...</td>\n",
       "      <td></td>\n",
       "      <td>4</td>\n",
       "      <td>1</td>\n",
       "      <td>G72.9</td>\n",
       "      <td>2</td>\n",
       "      <td></td>\n",
       "      <td>20151026</td>\n",
       "      <td>2015-09-21</td>\n",
       "      <td>2015-09-15</td>\n",
       "      <td>6</td>\n",
       "    </tr>\n",
       "    <tr>\n",
       "      <th>337</th>\n",
       "      <td>337</td>\n",
       "      <td>2</td>\n",
       "      <td>A809</td>\n",
       "      <td>20150927</td>\n",
       "      <td>201539</td>\n",
       "      <td>2015</td>\n",
       "      <td>AL</td>\n",
       "      <td>270430</td>\n",
       "      <td>1533</td>\n",
       "      <td>2006510</td>\n",
       "      <td>...</td>\n",
       "      <td></td>\n",
       "      <td>4</td>\n",
       "      <td>1</td>\n",
       "      <td>G83.9</td>\n",
       "      <td>1</td>\n",
       "      <td></td>\n",
       "      <td>20151123</td>\n",
       "      <td>2015-09-27</td>\n",
       "      <td>2015-09-22</td>\n",
       "      <td>5</td>\n",
       "    </tr>\n",
       "    <tr>\n",
       "      <th>375</th>\n",
       "      <td>375</td>\n",
       "      <td>2</td>\n",
       "      <td>A809</td>\n",
       "      <td>20151104</td>\n",
       "      <td>201544</td>\n",
       "      <td>2015</td>\n",
       "      <td>AL</td>\n",
       "      <td>270430</td>\n",
       "      <td>1533</td>\n",
       "      <td>2006510</td>\n",
       "      <td>...</td>\n",
       "      <td></td>\n",
       "      <td>4</td>\n",
       "      <td>1</td>\n",
       "      <td>G72.9</td>\n",
       "      <td>9</td>\n",
       "      <td></td>\n",
       "      <td>20160105</td>\n",
       "      <td>2015-11-04</td>\n",
       "      <td>2015-10-30</td>\n",
       "      <td>5</td>\n",
       "    </tr>\n",
       "  </tbody>\n",
       "</table>\n",
       "<p>13 rows × 172 columns</p>\n",
       "</div>"
      ],
      "text/plain": [
       "     Unnamed: 0  TP_NOT ID_AGRAVO DT_NOTIFIC  SEM_NOT  NU_ANO SG_UF_NOT  \\\n",
       "58           58       2      A809   20150223   201508    2015        AL   \n",
       "116         116       2      A809   20150418   201515    2015        AL   \n",
       "152         152       2      A809   20150519   201520    2015        AL   \n",
       "153         153       2      A809   20150520   201520    2015        AL   \n",
       "154         154       2      A809   20150520   201520    2015        AL   \n",
       "171         171       2      A809   20150605   201522    2015        AL   \n",
       "172         172       2      A809   20150605   201522    2015        AL   \n",
       "178         178       2      A809   20150615   201524    2015        AL   \n",
       "209         209       2      A809   20150707   201527    2015        AL   \n",
       "313         313       2      A809   20150914   201537    2015        AL   \n",
       "328         328       2      A809   20150921   201538    2015        AL   \n",
       "337         337       2      A809   20150927   201539    2015        AL   \n",
       "375         375       2      A809   20151104   201544    2015        AL   \n",
       "\n",
       "     ID_MUNICIP ID_REGIONA  ID_UNIDADE  ... EVOR1_DT_R  CLASSI_FIN CRITERIO  \\\n",
       "58       270510   1534         2722100  ...                      4        1   \n",
       "116      270430   1533         2006510  ...                      4        1   \n",
       "152      270430   1533         2006510  ...                      4        1   \n",
       "153      270430   1533         2006510  ...                      4        1   \n",
       "154      270430   1533         2006510  ...                      4        1   \n",
       "171      270430   1533         2006510  ...                      4        1   \n",
       "172      270430   1533         2006510  ...                      4        1   \n",
       "178      270430   1533         2006510  ...                      4        1   \n",
       "209      270430   1533         2006510  ...                      4        1   \n",
       "313      270430   1533         2006510  ...                      4        1   \n",
       "328      270430   1533         2006510  ...                      4        1   \n",
       "337      270430   1533         2006510  ...                      4        1   \n",
       "375      270430   1533         2006510  ...                      4        1   \n",
       "\n",
       "     CON_DESCAR EVOLUCAO  DT_OBITO DT_ENCERRA DT_NOTIFICACAO  DT_SINTOMAS  \\\n",
       "58        G72.3        2             20150420     2015-02-23   2015-02-20   \n",
       "116       G72.3        2             20150526     2015-04-18   2015-04-11   \n",
       "152       G72.9        2             20150617     2015-05-19   2015-05-12   \n",
       "153       G72.9        2             20150624     2015-05-20   2015-05-13   \n",
       "154       G72.9        2             20150615     2015-05-20   2015-05-09   \n",
       "171       G72.9        2             20150709     2015-06-05   2015-05-20   \n",
       "172       G72.9        2             20150709     2015-06-05   2015-05-22   \n",
       "178       G72.9        2             20150720     2015-06-15   2015-05-28   \n",
       "209       G72.3                      20150810     2015-07-07   2015-06-19   \n",
       "313       G72.9        2             20151014     2015-09-14   2015-09-12   \n",
       "328       G72.9        2             20151026     2015-09-21   2015-09-15   \n",
       "337       G83.9        1             20151123     2015-09-27   2015-09-22   \n",
       "375       G72.9        9             20160105     2015-11-04   2015-10-30   \n",
       "\n",
       "     ATRASO_NOT  \n",
       "58            3  \n",
       "116           7  \n",
       "152           7  \n",
       "153           7  \n",
       "154          11  \n",
       "171          16  \n",
       "172          14  \n",
       "178          18  \n",
       "209          18  \n",
       "313           2  \n",
       "328           6  \n",
       "337           5  \n",
       "375           5  \n",
       "\n",
       "[13 rows x 172 columns]"
      ]
     },
     "execution_count": 15,
     "metadata": {},
     "output_type": "execute_result"
    }
   ],
   "source": [
    "df[df[\"SG_UF_NOT\"] == \"AL\"]"
   ]
  },
  {
   "cell_type": "code",
   "execution_count": null,
   "id": "60c44a60",
   "metadata": {},
   "outputs": [],
   "source": []
  }
 ],
 "metadata": {
  "kernelspec": {
   "display_name": "pythonsus",
   "language": "python",
   "name": "pythonsus"
  },
  "language_info": {
   "codemirror_mode": {
    "name": "ipython",
    "version": 3
   },
   "file_extension": ".py",
   "mimetype": "text/x-python",
   "name": "python",
   "nbconvert_exporter": "python",
   "pygments_lexer": "ipython3",
   "version": "3.10.12"
  },
  "varInspector": {
   "cols": {
    "lenName": 16,
    "lenType": 16,
    "lenVar": 40
   },
   "kernels_config": {
    "python": {
     "delete_cmd_postfix": "",
     "delete_cmd_prefix": "del ",
     "library": "var_list.py",
     "varRefreshCmd": "print(var_dic_list())"
    },
    "r": {
     "delete_cmd_postfix": ") ",
     "delete_cmd_prefix": "rm(",
     "library": "var_list.r",
     "varRefreshCmd": "cat(var_dic_list()) "
    }
   },
   "types_to_exclude": [
    "module",
    "function",
    "builtin_function_or_method",
    "instance",
    "_Feature"
   ],
   "window_display": false
  }
 },
 "nbformat": 4,
 "nbformat_minor": 5
}
