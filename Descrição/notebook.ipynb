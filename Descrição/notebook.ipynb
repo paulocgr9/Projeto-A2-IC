{
 "cells": [
  {
   "cell_type": "code",
   "execution_count": 7,
   "id": "3d7f2d8f",
   "metadata": {
    "ExecuteTime": {
     "end_time": "2023-06-05T18:13:41.133310Z",
     "start_time": "2023-06-05T18:13:41.129743Z"
    }
   },
   "outputs": [],
   "source": [
    "import a2\n",
    "import pandas as pd\n",
    "CAMINHO = \"paralisiainfantil.csv\""
   ]
  },
  {
   "cell_type": "code",
   "execution_count": 8,
   "id": "ea11b3de",
   "metadata": {
    "ExecuteTime": {
     "end_time": "2023-06-05T18:13:41.578502Z",
     "start_time": "2023-06-05T18:13:41.558601Z"
    }
   },
   "outputs": [
    {
     "data": {
      "text/plain": [
       "475"
      ]
     },
     "execution_count": 8,
     "metadata": {},
     "output_type": "execute_result"
    }
   ],
   "source": [
    "a2.questao_1(CAMINHO)"
   ]
  },
  {
   "cell_type": "code",
   "execution_count": 9,
   "id": "dbd84b80",
   "metadata": {
    "ExecuteTime": {
     "end_time": "2023-06-05T18:13:42.103494Z",
     "start_time": "2023-06-05T18:13:42.088076Z"
    }
   },
   "outputs": [
    {
     "data": {
      "text/plain": [
       "261160    62\n",
       "355030    28\n",
       "211130    21\n",
       "130260    20\n",
       "250750    18\n",
       "          ..\n",
       "430460     1\n",
       "170255     1\n",
       "421580     1\n",
       "353080     1\n",
       "171880     1\n",
       "Name: ID_MUNICIP, Length: 120, dtype: int64"
      ]
     },
     "execution_count": 9,
     "metadata": {},
     "output_type": "execute_result"
    }
   ],
   "source": [
    "a2.questao_2(CAMINHO)"
   ]
  },
  {
   "cell_type": "code",
   "execution_count": 10,
   "id": "91b4e335",
   "metadata": {
    "ExecuteTime": {
     "end_time": "2023-06-05T18:13:42.482965Z",
     "start_time": "2023-06-05T18:13:42.479843Z"
    }
   },
   "outputs": [
    {
     "name": "stdout",
     "output_type": "stream",
     "text": [
      "['AUTORES', '__builtins__', '__cached__', '__doc__', '__file__', '__loader__', '__name__', '__package__', '__spec__', 'mp', 'pd', 'questao_1', 'questao_10', 'questao_2', 'questao_3', 'questao_4', 'questao_5', 'questao_6', 'questao_7', 'questao_8', 'questao_9']\n"
     ]
    }
   ],
   "source": [
    "print(dir(a2))"
   ]
  },
  {
   "cell_type": "code",
   "execution_count": 11,
   "id": "ae59e191",
   "metadata": {
    "ExecuteTime": {
     "end_time": "2023-06-05T18:13:43.025361Z",
     "start_time": "2023-06-05T18:13:43.010658Z"
    }
   },
   "outputs": [
    {
     "ename": "TypeError",
     "evalue": "questao_3() takes 0 positional arguments but 1 was given",
     "output_type": "error",
     "traceback": [
      "\u001b[0;31m---------------------------------------------------------------------------\u001b[0m",
      "\u001b[0;31mTypeError\u001b[0m                                 Traceback (most recent call last)",
      "Cell \u001b[0;32mIn[11], line 1\u001b[0m\n\u001b[0;32m----> 1\u001b[0m \u001b[43ma2\u001b[49m\u001b[38;5;241;43m.\u001b[39;49m\u001b[43mquestao_3\u001b[49m\u001b[43m(\u001b[49m\u001b[43mCAMINHO\u001b[49m\u001b[43m)\u001b[49m\n",
      "\u001b[0;31mTypeError\u001b[0m: questao_3() takes 0 positional arguments but 1 was given"
     ]
    }
   ],
   "source": [
    "a2.questao_3(CAMINHO)"
   ]
  },
  {
   "cell_type": "code",
   "execution_count": 13,
   "id": "2b562e56",
   "metadata": {
    "ExecuteTime": {
     "end_time": "2023-06-05T18:13:59.348756Z",
     "start_time": "2023-06-05T18:13:59.318044Z"
    }
   },
   "outputs": [
    {
     "data": {
      "text/plain": [
       "{'M': 271, 'F': 204}"
      ]
     },
     "execution_count": 13,
     "metadata": {},
     "output_type": "execute_result"
    }
   ],
   "source": [
    "df = pd.read_csv(CAMINHO)\n",
    "df[\"CS_SEXO\"].value_counts().to_dict()"
   ]
  },
  {
   "cell_type": "code",
   "execution_count": null,
   "id": "8adf480e",
   "metadata": {},
   "outputs": [],
   "source": []
  }
 ],
 "metadata": {
  "kernelspec": {
   "display_name": "pythonsus",
   "language": "python",
   "name": "pythonsus"
  },
  "language_info": {
   "codemirror_mode": {
    "name": "ipython",
    "version": 3
   },
   "file_extension": ".py",
   "mimetype": "text/x-python",
   "name": "python",
   "nbconvert_exporter": "python",
   "pygments_lexer": "ipython3",
   "version": "3.10.11"
  },
  "varInspector": {
   "cols": {
    "lenName": 16,
    "lenType": 16,
    "lenVar": 40
   },
   "kernels_config": {
    "python": {
     "delete_cmd_postfix": "",
     "delete_cmd_prefix": "del ",
     "library": "var_list.py",
     "varRefreshCmd": "print(var_dic_list())"
    },
    "r": {
     "delete_cmd_postfix": ") ",
     "delete_cmd_prefix": "rm(",
     "library": "var_list.r",
     "varRefreshCmd": "cat(var_dic_list()) "
    }
   },
   "types_to_exclude": [
    "module",
    "function",
    "builtin_function_or_method",
    "instance",
    "_Feature"
   ],
   "window_display": false
  }
 },
 "nbformat": 4,
 "nbformat_minor": 5
}
