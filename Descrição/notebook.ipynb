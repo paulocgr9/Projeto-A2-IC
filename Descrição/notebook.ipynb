{
 "cells": [
  {
   "cell_type": "code",
   "execution_count": 1,
   "id": "3d7f2d8f",
   "metadata": {
    "ExecuteTime": {
     "end_time": "2023-06-07T11:23:01.616641Z",
     "start_time": "2023-06-07T11:23:01.085159Z"
    }
   },
   "outputs": [],
   "source": [
    "import a2\n",
    "import pandas as pd\n",
    "CAMINHO = \"paralisiainfantil.csv\""
   ]
  },
  {
   "cell_type": "code",
   "execution_count": 2,
   "id": "ea11b3de",
   "metadata": {
    "ExecuteTime": {
     "end_time": "2023-06-07T11:23:01.631747Z",
     "start_time": "2023-06-07T11:23:01.617728Z"
    }
   },
   "outputs": [
    {
     "data": {
      "text/plain": [
       "475"
      ]
     },
     "execution_count": 2,
     "metadata": {},
     "output_type": "execute_result"
    }
   ],
   "source": [
    "a2.questao_1(CAMINHO)"
   ]
  },
  {
   "cell_type": "code",
   "execution_count": 3,
   "id": "dbd84b80",
   "metadata": {
    "ExecuteTime": {
     "end_time": "2023-06-07T11:23:01.645502Z",
     "start_time": "2023-06-07T11:23:01.633252Z"
    }
   },
   "outputs": [
    {
     "data": {
      "text/plain": [
       "261160    62\n",
       "355030    28\n",
       "211130    21\n",
       "130260    20\n",
       "250750    18\n",
       "          ..\n",
       "430460     1\n",
       "170255     1\n",
       "421580     1\n",
       "353080     1\n",
       "171880     1\n",
       "Name: ID_MUNICIP, Length: 120, dtype: int64"
      ]
     },
     "execution_count": 3,
     "metadata": {},
     "output_type": "execute_result"
    }
   ],
   "source": [
    "a2.questao_2(CAMINHO)"
   ]
  },
  {
   "cell_type": "code",
   "execution_count": 4,
   "id": "ae59e191",
   "metadata": {
    "ExecuteTime": {
     "end_time": "2023-06-07T11:23:01.658979Z",
     "start_time": "2023-06-07T11:23:01.646356Z"
    }
   },
   "outputs": [
    {
     "data": {
      "text/plain": [
       "('M', {'M': 271, 'F': 204})"
      ]
     },
     "execution_count": 4,
     "metadata": {},
     "output_type": "execute_result"
    }
   ],
   "source": [
    "a2.questao_3(CAMINHO)"
   ]
  },
  {
   "cell_type": "code",
   "execution_count": 5,
   "id": "888d1218",
   "metadata": {
    "ExecuteTime": {
     "end_time": "2023-06-07T11:23:01.672022Z",
     "start_time": "2023-06-07T11:23:01.660029Z"
    }
   },
   "outputs": [
    {
     "data": {
      "text/plain": [
       "6.441403508771931"
      ]
     },
     "execution_count": 5,
     "metadata": {},
     "output_type": "execute_result"
    }
   ],
   "source": [
    "a2.questao_4(CAMINHO)"
   ]
  },
  {
   "cell_type": "code",
   "execution_count": 6,
   "id": "45a16c78",
   "metadata": {
    "ExecuteTime": {
     "end_time": "2023-06-07T11:23:01.686596Z",
     "start_time": "2023-06-07T11:23:01.673105Z"
    }
   },
   "outputs": [
    {
     "data": {
      "text/plain": [
       "{'SP': 76,\n",
       " 'PE': 62,\n",
       " 'PR': 41,\n",
       " 'MG': 40,\n",
       " 'BA': 35,\n",
       " 'RS': 26,\n",
       " 'MA': 22,\n",
       " 'RJ': 21,\n",
       " 'AM': 20,\n",
       " 'PB': 18,\n",
       " 'AL': 13,\n",
       " 'RN': 12,\n",
       " 'PA': 11,\n",
       " 'PI': 11,\n",
       " 'GO': 10,\n",
       " 'TO': 9,\n",
       " 'SE': 9,\n",
       " 'DF': 8,\n",
       " 'RO': 5,\n",
       " 'MS': 5,\n",
       " 'MT': 4,\n",
       " 'CE': 4,\n",
       " 'ES': 4,\n",
       " 'AC': 3,\n",
       " 'SC': 3,\n",
       " 'AP': 3}"
      ]
     },
     "execution_count": 6,
     "metadata": {},
     "output_type": "execute_result"
    }
   ],
   "source": [
    "a2.questao_5(CAMINHO)"
   ]
  },
  {
   "cell_type": "code",
   "execution_count": 7,
   "id": "7d9c0d65",
   "metadata": {
    "ExecuteTime": {
     "end_time": "2023-06-07T11:23:01.702072Z",
     "start_time": "2023-06-07T11:23:01.687926Z"
    }
   },
   "outputs": [
    {
     "data": {
      "text/plain": [
       "{'SP': 43,\n",
       " 'PE': 34,\n",
       " 'BA': 27,\n",
       " 'PR': 27,\n",
       " 'MG': 19,\n",
       " 'RS': 18,\n",
       " 'RJ': 12,\n",
       " 'PB': 11,\n",
       " 'AM': 9,\n",
       " 'MA': 9,\n",
       " 'AL': 8,\n",
       " 'PI': 8,\n",
       " 'TO': 6,\n",
       " 'SE': 6,\n",
       " 'DF': 5,\n",
       " 'RN': 5,\n",
       " 'GO': 4,\n",
       " 'PA': 4,\n",
       " 'CE': 4,\n",
       " 'RO': 3,\n",
       " 'MS': 3,\n",
       " 'AC': 2,\n",
       " 'MT': 2,\n",
       " 'SC': 1,\n",
       " 'AP': 1}"
      ]
     },
     "execution_count": 7,
     "metadata": {},
     "output_type": "execute_result"
    }
   ],
   "source": [
    "a2.questao_6(CAMINHO)"
   ]
  },
  {
   "cell_type": "code",
   "execution_count": 12,
   "id": "0812fc6b",
   "metadata": {
    "ExecuteTime": {
     "end_time": "2023-06-07T11:24:41.288013Z",
     "start_time": "2023-06-07T11:24:41.266770Z"
    }
   },
   "outputs": [
    {
     "data": {
      "text/plain": [
       "{'AC': 0.09090909090909091,\n",
       " 'AL': 0.0196078431372549,\n",
       " 'AP': 0.0625,\n",
       " 'AM': 0.016129032258064516,\n",
       " 'BA': 0.016786570743405275,\n",
       " 'CE': 0.005434782608695652,\n",
       " 'DF': 1.0,\n",
       " 'ES': 0.038461538461538464,\n",
       " 'GO': 0.008130081300813009,\n",
       " 'MA': 0.009216589861751152,\n",
       " 'MT': 0.014184397163120567,\n",
       " 'MS': 0.02531645569620253,\n",
       " 'MG': 0.017584994138335287,\n",
       " 'PA': 0.034722222222222224,\n",
       " 'PB': 0.004484304932735426,\n",
       " 'PR': 0.047619047619047616,\n",
       " 'PE': 0.005405405405405406,\n",
       " 'PI': 0.004464285714285714,\n",
       " 'RN': 0.011976047904191617,\n",
       " 'RS': 0.018108651911468814,\n",
       " 'RJ': 0.04395604395604396,\n",
       " 'RO': 0.019230769230769232,\n",
       " 'RR': 0.0,\n",
       " 'SC': 0.010169491525423728,\n",
       " 'SP': 0.043410852713178294,\n",
       " 'SE': 0.013333333333333334,\n",
       " 'TO': 0.02877697841726619}"
      ]
     },
     "execution_count": 12,
     "metadata": {},
     "output_type": "execute_result"
    }
   ],
   "source": [
    "a2.questao_7(CAMINHO)"
   ]
  },
  {
   "cell_type": "code",
   "execution_count": 9,
   "id": "af2c8238",
   "metadata": {
    "ExecuteTime": {
     "end_time": "2023-06-07T11:23:01.756581Z",
     "start_time": "2023-06-07T11:23:01.726350Z"
    }
   },
   "outputs": [
    {
     "name": "stderr",
     "output_type": "stream",
     "text": [
      "/home/pedro/Modelos/Python/Aulas IC/Projeto-A2-IC/Descrição/a2.py:82: PerformanceWarning: DataFrame is highly fragmented.  This is usually the result of calling `frame.insert` many times, which has poor performance.  Consider joining all columns at once using pd.concat(axis=1) instead. To get a de-fragmented frame, use `newframe = frame.copy()`\n",
      "  df[\"DT_NOTIFICACAO\"] = pd.to_datetime(df[\"DT_NOTIFIC\"])\n",
      "/home/pedro/Modelos/Python/Aulas IC/Projeto-A2-IC/Descrição/a2.py:83: PerformanceWarning: DataFrame is highly fragmented.  This is usually the result of calling `frame.insert` many times, which has poor performance.  Consider joining all columns at once using pd.concat(axis=1) instead. To get a de-fragmented frame, use `newframe = frame.copy()`\n",
      "  df[\"DT_SINTOMAS\"] = pd.to_datetime(df[\"DT_SIN_PRI\"])\n",
      "/home/pedro/Modelos/Python/Aulas IC/Projeto-A2-IC/Descrição/a2.py:84: PerformanceWarning: DataFrame is highly fragmented.  This is usually the result of calling `frame.insert` many times, which has poor performance.  Consider joining all columns at once using pd.concat(axis=1) instead. To get a de-fragmented frame, use `newframe = frame.copy()`\n",
      "  df[\"ATRASO_NOT\"] = (df[\"DT_NOTIFICACAO\"] - df[\"DT_SINTOMAS\"]).dt.days\n"
     ]
    },
    {
     "data": {
      "text/html": [
       "<div>\n",
       "<style scoped>\n",
       "    .dataframe tbody tr th:only-of-type {\n",
       "        vertical-align: middle;\n",
       "    }\n",
       "\n",
       "    .dataframe tbody tr th {\n",
       "        vertical-align: top;\n",
       "    }\n",
       "\n",
       "    .dataframe thead th {\n",
       "        text-align: right;\n",
       "    }\n",
       "</style>\n",
       "<table border=\"1\" class=\"dataframe\">\n",
       "  <thead>\n",
       "    <tr style=\"text-align: right;\">\n",
       "      <th></th>\n",
       "      <th>DT_NOTIFICACAO</th>\n",
       "      <th>DT_SINTOMAS</th>\n",
       "      <th>ATRASO_NOT</th>\n",
       "    </tr>\n",
       "  </thead>\n",
       "  <tbody>\n",
       "    <tr>\n",
       "      <th>0</th>\n",
       "      <td>2015-01-05</td>\n",
       "      <td>2015-01-03</td>\n",
       "      <td>2</td>\n",
       "    </tr>\n",
       "    <tr>\n",
       "      <th>1</th>\n",
       "      <td>2015-01-06</td>\n",
       "      <td>2015-01-05</td>\n",
       "      <td>1</td>\n",
       "    </tr>\n",
       "    <tr>\n",
       "      <th>2</th>\n",
       "      <td>2015-01-06</td>\n",
       "      <td>2015-01-01</td>\n",
       "      <td>5</td>\n",
       "    </tr>\n",
       "    <tr>\n",
       "      <th>3</th>\n",
       "      <td>2015-01-12</td>\n",
       "      <td>2015-01-06</td>\n",
       "      <td>6</td>\n",
       "    </tr>\n",
       "    <tr>\n",
       "      <th>4</th>\n",
       "      <td>2015-01-12</td>\n",
       "      <td>2015-01-10</td>\n",
       "      <td>2</td>\n",
       "    </tr>\n",
       "    <tr>\n",
       "      <th>...</th>\n",
       "      <td>...</td>\n",
       "      <td>...</td>\n",
       "      <td>...</td>\n",
       "    </tr>\n",
       "    <tr>\n",
       "      <th>470</th>\n",
       "      <td>2016-01-29</td>\n",
       "      <td>2015-12-24</td>\n",
       "      <td>36</td>\n",
       "    </tr>\n",
       "    <tr>\n",
       "      <th>471</th>\n",
       "      <td>2016-02-01</td>\n",
       "      <td>2015-12-31</td>\n",
       "      <td>32</td>\n",
       "    </tr>\n",
       "    <tr>\n",
       "      <th>472</th>\n",
       "      <td>2016-02-03</td>\n",
       "      <td>2015-12-11</td>\n",
       "      <td>54</td>\n",
       "    </tr>\n",
       "    <tr>\n",
       "      <th>473</th>\n",
       "      <td>2016-02-18</td>\n",
       "      <td>2015-12-06</td>\n",
       "      <td>74</td>\n",
       "    </tr>\n",
       "    <tr>\n",
       "      <th>474</th>\n",
       "      <td>2016-02-19</td>\n",
       "      <td>2015-10-04</td>\n",
       "      <td>138</td>\n",
       "    </tr>\n",
       "  </tbody>\n",
       "</table>\n",
       "<p>475 rows × 3 columns</p>\n",
       "</div>"
      ],
      "text/plain": [
       "    DT_NOTIFICACAO DT_SINTOMAS  ATRASO_NOT\n",
       "0       2015-01-05  2015-01-03           2\n",
       "1       2015-01-06  2015-01-05           1\n",
       "2       2015-01-06  2015-01-01           5\n",
       "3       2015-01-12  2015-01-06           6\n",
       "4       2015-01-12  2015-01-10           2\n",
       "..             ...         ...         ...\n",
       "470     2016-01-29  2015-12-24          36\n",
       "471     2016-02-01  2015-12-31          32\n",
       "472     2016-02-03  2015-12-11          54\n",
       "473     2016-02-18  2015-12-06          74\n",
       "474     2016-02-19  2015-10-04         138\n",
       "\n",
       "[475 rows x 3 columns]"
      ]
     },
     "execution_count": 9,
     "metadata": {},
     "output_type": "execute_result"
    }
   ],
   "source": [
    "a2.questao_8(CAMINHO)"
   ]
  },
  {
   "cell_type": "code",
   "execution_count": 10,
   "id": "e7eceaa2",
   "metadata": {
    "ExecuteTime": {
     "end_time": "2023-06-07T11:23:01.783664Z",
     "start_time": "2023-06-07T11:23:01.757774Z"
    }
   },
   "outputs": [
    {
     "name": "stderr",
     "output_type": "stream",
     "text": [
      "/home/pedro/Modelos/Python/Aulas IC/Projeto-A2-IC/Descrição/a2.py:92: PerformanceWarning: DataFrame is highly fragmented.  This is usually the result of calling `frame.insert` many times, which has poor performance.  Consider joining all columns at once using pd.concat(axis=1) instead. To get a de-fragmented frame, use `newframe = frame.copy()`\n",
      "  df[\"DT_NOTIFICACAO\"] = pd.to_datetime(df[\"DT_NOTIFIC\"])\n",
      "/home/pedro/Modelos/Python/Aulas IC/Projeto-A2-IC/Descrição/a2.py:93: PerformanceWarning: DataFrame is highly fragmented.  This is usually the result of calling `frame.insert` many times, which has poor performance.  Consider joining all columns at once using pd.concat(axis=1) instead. To get a de-fragmented frame, use `newframe = frame.copy()`\n",
      "  df[\"DT_SINTOMAS\"] = pd.to_datetime(df[\"DT_SIN_PRI\"])\n",
      "/home/pedro/Modelos/Python/Aulas IC/Projeto-A2-IC/Descrição/a2.py:94: PerformanceWarning: DataFrame is highly fragmented.  This is usually the result of calling `frame.insert` many times, which has poor performance.  Consider joining all columns at once using pd.concat(axis=1) instead. To get a de-fragmented frame, use `newframe = frame.copy()`\n",
      "  df[\"ATRASO_NOT\"] = (df[\"DT_NOTIFICACAO\"] - df[\"DT_SINTOMAS\"]).dt.days\n"
     ]
    },
    {
     "data": {
      "text/plain": [
       "{'AC': (3.0, 0.0),\n",
       " 'AL': (9.153846153846153, 5.610201331000428),\n",
       " 'AP': (26.0, 16.522711641858304),\n",
       " 'AM': (8.1, 8.64443843112285),\n",
       " 'BA': (8.457142857142857, 7.901388028258658),\n",
       " 'CE': (8.0, 9.018499505645789),\n",
       " 'DF': (5.75, 6.341473465550866),\n",
       " 'ES': (6.5, 4.79583152331272),\n",
       " 'GO': (7.5, 10.51189802081432),\n",
       " 'MA': (13.5, 15.045170084021745),\n",
       " 'MT': (18.25, 10.812801055539063),\n",
       " 'MS': (4.4, 1.6733200530681511),\n",
       " 'MG': (15.9, 28.870000399669607),\n",
       " 'PA': (14.363636363636363, 16.70492578416754),\n",
       " 'PB': (4.666666666666667, 3.9556363361069242),\n",
       " 'PR': (13.170731707317072, 25.040869033466464),\n",
       " 'PE': (17.693548387096776, 50.74674784368685),\n",
       " 'PI': (11.454545454545455, 9.363371576132566),\n",
       " 'RN': (5.333333333333333, 3.3933982252531925),\n",
       " 'RS': (39.42307692307692, 56.28866534351162),\n",
       " 'RJ': (42.904761904761905, 54.265002314479595),\n",
       " 'RO': (3.6, 2.3021728866442674),\n",
       " 'RR': (0, 0),\n",
       " 'SC': (8.0, 11.357816691600547),\n",
       " 'SP': (19.42105263157895, 30.028547820541146),\n",
       " 'SE': (6.333333333333333, 5.04975246918104),\n",
       " 'TO': (29.22222222222222, 31.30406434385868)}"
      ]
     },
     "execution_count": 10,
     "metadata": {},
     "output_type": "execute_result"
    }
   ],
   "source": [
    "a2.questao_9(CAMINHO)"
   ]
  },
  {
   "cell_type": "code",
   "execution_count": 11,
   "id": "d318c2d0",
   "metadata": {
    "ExecuteTime": {
     "end_time": "2023-06-07T11:23:01.937008Z",
     "start_time": "2023-06-07T11:23:01.784512Z"
    }
   },
   "outputs": [
    {
     "ename": "TypeError",
     "evalue": "questao_10() takes 0 positional arguments but 1 was given",
     "output_type": "error",
     "traceback": [
      "\u001b[0;31m---------------------------------------------------------------------------\u001b[0m",
      "\u001b[0;31mTypeError\u001b[0m                                 Traceback (most recent call last)",
      "Cell \u001b[0;32mIn[11], line 1\u001b[0m\n\u001b[0;32m----> 1\u001b[0m \u001b[43ma2\u001b[49m\u001b[38;5;241;43m.\u001b[39;49m\u001b[43mquestao_10\u001b[49m\u001b[43m(\u001b[49m\u001b[43mCAMINHO\u001b[49m\u001b[43m)\u001b[49m\n",
      "\u001b[0;31mTypeError\u001b[0m: questao_10() takes 0 positional arguments but 1 was given"
     ]
    }
   ],
   "source": [
    "a2.questao_10(CAMINHO)"
   ]
  },
  {
   "cell_type": "code",
   "execution_count": null,
   "id": "16a37546",
   "metadata": {
    "ExecuteTime": {
     "end_time": "2023-06-07T11:23:01.942880Z",
     "start_time": "2023-06-07T11:23:01.942872Z"
    }
   },
   "outputs": [],
   "source": [
    "dicionario_estados = {\n",
    "    12:\"AC\", 27:\"AL\", 16:\"AP\", 13:\"AM\", 29:\"BA\", 23:\"CE\", 53:\"DF\", 32:\"ES\",\n",
    "    52:\"GO\", 21:\"MA\", 51:\"MT\", 50:\"MS\", 31:\"MG\", 15:\"PA\", 25:\"PB\", 41:\"PR\",\n",
    "    26:\"PE\", 22:\"PI\", 24:\"RN\", 43:\"RS\", 33:\"RJ\", 11:\"RO\", 14:\"RR\", 42:\"SC\",\n",
    "    35:\"SP\", 28:\"SE\", 17:\"TO\"\n",
    "}"
   ]
  },
  {
   "cell_type": "code",
   "execution_count": null,
   "id": "80fe4b40",
   "metadata": {
    "ExecuteTime": {
     "end_time": "2023-06-07T11:23:01.943416Z",
     "start_time": "2023-06-07T11:23:01.943409Z"
    }
   },
   "outputs": [],
   "source": [
    "df = pd.read_csv(CAMINHO)"
   ]
  },
  {
   "cell_type": "code",
   "execution_count": null,
   "id": "3650e642",
   "metadata": {
    "ExecuteTime": {
     "end_time": "2023-06-07T11:23:01.943912Z",
     "start_time": "2023-06-07T11:23:01.943905Z"
    }
   },
   "outputs": [],
   "source": [
    "df[\"SG_UF_NOT\"] = df[\"SG_UF_NOT\"].replace(dicionario_estados)\n",
    "df = df.astype({\"DT_NOTIFIC\": str, \"DT_SIN_PRI\": str})\n",
    "df[\"DT_NOTIFICACAO\"] = pd.to_datetime(df[\"DT_NOTIFIC\"])\n",
    "df[\"DT_SINTOMAS\"] = pd.to_datetime(df[\"DT_SIN_PRI\"])\n",
    "df[\"ATRASO_NOT\"] = (df[\"DT_NOTIFICACAO\"] - df[\"DT_SINTOMAS\"]).dt.days"
   ]
  },
  {
   "cell_type": "code",
   "execution_count": null,
   "id": "fcbcdc40",
   "metadata": {
    "ExecuteTime": {
     "end_time": "2023-06-07T11:23:01.944460Z",
     "start_time": "2023-06-07T11:23:01.944453Z"
    }
   },
   "outputs": [],
   "source": [
    "df[df[\"SG_UF_NOT\"] == \"AL\"]"
   ]
  },
  {
   "cell_type": "code",
   "execution_count": null,
   "id": "b61d0aa4",
   "metadata": {},
   "outputs": [],
   "source": []
  }
 ],
 "metadata": {
  "kernelspec": {
   "display_name": "pythonsus",
   "language": "python",
   "name": "pythonsus"
  },
  "language_info": {
   "codemirror_mode": {
    "name": "ipython",
    "version": 3
   },
   "file_extension": ".py",
   "mimetype": "text/x-python",
   "name": "python",
   "nbconvert_exporter": "python",
   "pygments_lexer": "ipython3",
   "version": "3.10.11"
  },
  "varInspector": {
   "cols": {
    "lenName": 16,
    "lenType": 16,
    "lenVar": 40
   },
   "kernels_config": {
    "python": {
     "delete_cmd_postfix": "",
     "delete_cmd_prefix": "del ",
     "library": "var_list.py",
     "varRefreshCmd": "print(var_dic_list())"
    },
    "r": {
     "delete_cmd_postfix": ") ",
     "delete_cmd_prefix": "rm(",
     "library": "var_list.r",
     "varRefreshCmd": "cat(var_dic_list()) "
    }
   },
   "types_to_exclude": [
    "module",
    "function",
    "builtin_function_or_method",
    "instance",
    "_Feature"
   ],
   "window_display": false
  }
 },
 "nbformat": 4,
 "nbformat_minor": 5
}
