{
 "cells": [
  {
   "cell_type": "markdown",
   "id": "f8ed4e09",
   "metadata": {},
   "source": [
    "# Relatório - Trablaho A2 de Intrdução à Computação\n",
    "\n",
    "#### Paulo César Gomes Rodrigues e Pedro Santos Tokar\n",
    "\n",
    "Esse relatório visa explicar a implementação de cada função proposta para o trabalho, bem como apresentar os resultados obtidos, no nosso caso usando a base de dados da doença de Chagas em 2018. Primeiro, é preciso importar o módulo `a2.py`, que tem as funções implementadas, e a função `decodifica_idade_SINAN`, que é usada em uma das questões:"
   ]
  },
  {
   "cell_type": "code",
   "execution_count": 1,
   "id": "3d7f2d8f",
   "metadata": {
    "ExecuteTime": {
     "end_time": "2023-06-24T02:25:23.242871Z",
     "start_time": "2023-06-24T02:25:22.721185Z"
    }
   },
   "outputs": [],
   "source": [
    "import a2\n",
    "from pysus.preprocessing.decoders import decodifica_idade_SINAN"
   ]
  },
  {
   "cell_type": "markdown",
   "id": "da9421f7",
   "metadata": {},
   "source": [
    "Algumas questões fazem uso de um dicionário relacionando os códigos dos estados com suas siglas. Esse dicionário está definido no começo do arquivo `a2.py`, e é o seguinte:"
   ]
  },
  {
   "cell_type": "code",
   "execution_count": 2,
   "id": "69597339",
   "metadata": {
    "ExecuteTime": {
     "end_time": "2023-06-24T02:25:23.246056Z",
     "start_time": "2023-06-24T02:25:23.243899Z"
    }
   },
   "outputs": [],
   "source": [
    "dicionario_estados = {\n",
    "    12:\"AC\", 27:\"AL\", 16:\"AP\", 13:\"AM\", 29:\"BA\", 23:\"CE\", 53:\"DF\", 32:\"ES\",\n",
    "    52:\"GO\", 21:\"MA\", 51:\"MT\", 50:\"MS\", 31:\"MG\", 15:\"PA\", 25:\"PB\", 41:\"PR\",\n",
    "    26:\"PE\", 22:\"PI\", 24:\"RN\", 43:\"RS\", 33:\"RJ\", 11:\"RO\", 14:\"RR\", 42:\"SC\",\n",
    "    35:\"SP\", 28:\"SE\", 17:\"TO\"\n",
    "}"
   ]
  },
  {
   "cell_type": "markdown",
   "id": "15710ec7",
   "metadata": {},
   "source": [
    "## Questão 1\n",
    "\n",
    "Código:"
   ]
  },
  {
   "cell_type": "code",
   "execution_count": 3,
   "id": "372c0aa7",
   "metadata": {
    "ExecuteTime": {
     "end_time": "2023-06-24T02:25:23.283886Z",
     "start_time": "2023-06-24T02:25:23.247272Z"
    }
   },
   "outputs": [
    {
     "data": {
      "text/plain": [
       "4685"
      ]
     },
     "execution_count": 3,
     "metadata": {},
     "output_type": "execute_result"
    }
   ],
   "source": [
    "def questao_1(caminho = \"chagas2018.csv\"):\n",
    "    df = pd.read_csv(caminho)\n",
    "    return df.shape[0]\n",
    "\n",
    "a2.questao_1()"
   ]
  },
  {
   "cell_type": "markdown",
   "id": "f56f3df5",
   "metadata": {},
   "source": [
    "Essa questão é bem simples: Ela não faz mais nada além de ler o arquivo de acordo como path fornecido (assim como todas as posteriores) e contar quantas linhas tem o dataframe, usando o atributo `shape`, que guarda o número de linhas e colunas do dataframe.\n",
    "\n",
    "## Questão 2\n",
    "\n",
    "Código:"
   ]
  },
  {
   "cell_type": "code",
   "execution_count": 4,
   "id": "bcdb56d0",
   "metadata": {
    "ExecuteTime": {
     "end_time": "2023-06-24T02:25:23.315142Z",
     "start_time": "2023-06-24T02:25:23.284738Z"
    }
   },
   "outputs": [
    {
     "data": {
      "text/plain": [
       "150010    521\n",
       "160030    368\n",
       "150140    332\n",
       "150080    270\n",
       "150130    263\n",
       "         ... \n",
       "130410      1\n",
       "221000      1\n",
       "293330      1\n",
       "231290      1\n",
       "510795      1\n",
       "Name: ID_MUNICIP, Length: 472, dtype: int64"
      ]
     },
     "execution_count": 4,
     "metadata": {},
     "output_type": "execute_result"
    }
   ],
   "source": [
    "def questao_2(caminho = \"chagas2018.csv\"):\n",
    "    df = pd.read_csv(caminho)\n",
    "    casos_por_municipio = df[\"ID_MUNICIP\"].value_counts()\n",
    "    return casos_por_municipio\n",
    "\n",
    "a2.questao_2()"
   ]
  },
  {
   "cell_type": "markdown",
   "id": "a0c2a2c7",
   "metadata": {},
   "source": [
    "A função acessa a coluna `ID_MUNICIP` (que é um objeto da classe `Series`, assim como todas as colunas do dataframe) no dataframe e usa o método `value_counts` nessa coluna. O método retorna um objeto `Series`, que é o resultado pedido da questão.\n",
    "\n",
    "## Questão 3\n",
    "\n",
    "Código:"
   ]
  },
  {
   "cell_type": "code",
   "execution_count": 5,
   "id": "a61feebf",
   "metadata": {
    "ExecuteTime": {
     "end_time": "2023-06-24T02:25:23.349252Z",
     "start_time": "2023-06-24T02:25:23.315988Z"
    }
   },
   "outputs": [
    {
     "data": {
      "text/plain": [
       "('M', {'M': 2420, 'F': 2265})"
      ]
     },
     "execution_count": 5,
     "metadata": {},
     "output_type": "execute_result"
    }
   ],
   "source": [
    "def questao_3(caminho = \"chagas2018.csv\"):\n",
    "    df = pd.read_csv(caminho)\n",
    "    dicionario =  df[\"CS_SEXO\"].value_counts().to_dict()\n",
    "    if \" \" in dicionario.keys():\n",
    "        del dicionario[\" \"]\n",
    "    if \"I\" in dicionario.keys():\n",
    "        del dicionario[\"I\"]\n",
    "    if not (\"M\" in dicionario.keys()):\n",
    "        dicionario[\"M\"] = 0\n",
    "    if not (\"F\" in dicionario.keys()):\n",
    "        dicionario[\"F\"] = 0\n",
    "    if dicionario[\"M\"] > dicionario[\"F\"]:\n",
    "        return \"M\", dicionario\n",
    "    elif dicionario[\"F\"] > dicionario[\"M\"]:\n",
    "        return \"F\", dicionario\n",
    "    else:\n",
    "        return \"F\", dicionario\n",
    "\n",
    "a2.questao_3()"
   ]
  },
  {
   "cell_type": "markdown",
   "id": "d06bde15",
   "metadata": {},
   "source": [
    "Essa função usa o método `value_counts` na coluna `CS_SEXO`, e usa o método `to_dict` para converter o objeto `Series` em um dicionário python. Após isso, as chaves `I` e ` ` são removidas dele, caso existam (algumas bases de dados do SINAN apresentam esses valores na coluna de sexo). Por último, é usada uma condicional para ver qual sexo tem mais casos, e o retorno é uma tupla com a letra representando o sexo e o dicionário com as ocorrências por sexo.\n",
    "\n",
    "## Questão 4\n",
    "\n",
    "Código:"
   ]
  },
  {
   "cell_type": "code",
   "execution_count": 6,
   "id": "c27502e3",
   "metadata": {
    "ExecuteTime": {
     "end_time": "2023-06-24T02:25:23.384536Z",
     "start_time": "2023-06-24T02:25:23.350270Z"
    }
   },
   "outputs": [
    {
     "data": {
      "text/plain": [
       "31.9842255717509"
      ]
     },
     "execution_count": 6,
     "metadata": {},
     "output_type": "execute_result"
    }
   ],
   "source": [
    "def questao_4(caminho = \"chagas2018.csv\"):\n",
    "    df = pd.read_csv(caminho)\n",
    "    df[\"IDADE_DECODIFICADA\"] = decodifica_idade_SINAN(df.NU_IDADE_N, \"Y\")\n",
    "    media = df[\"IDADE_DECODIFICADA\"].mean()\n",
    "    return media\n",
    "\n",
    "a2.questao_4()"
   ]
  },
  {
   "cell_type": "markdown",
   "id": "e52ed150",
   "metadata": {},
   "source": [
    "Essa função usa a função `decodifica_idade_SINAN`, da biblioteca `PySUS`, para decodificar a coluna de idades do dataframe. Uma nova coluna com essas idades decodificadas é criada, e a média é calculada pelo método `mean`.\n",
    "\n",
    "## Questão 5\n",
    "\n",
    "Código:"
   ]
  },
  {
   "cell_type": "code",
   "execution_count": 7,
   "id": "390cb513",
   "metadata": {
    "ExecuteTime": {
     "end_time": "2023-06-24T02:25:23.416808Z",
     "start_time": "2023-06-24T02:25:23.385335Z"
    }
   },
   "outputs": [
    {
     "data": {
      "text/plain": [
       "{'PA': 2618,\n",
       " 'AP': 556,\n",
       " 'MG': 271,\n",
       " 'BA': 181,\n",
       " 'MA': 174,\n",
       " 'RO': 131,\n",
       " 'TO': 119,\n",
       " 'AM': 90,\n",
       " 'AC': 84,\n",
       " 'PB': 72,\n",
       " 'ES': 58,\n",
       " 'PR': 56,\n",
       " 'MT': 41,\n",
       " 'CE': 34,\n",
       " 'RS': 29,\n",
       " 'RJ': 27,\n",
       " 'AL': 27,\n",
       " 'GO': 22,\n",
       " 'PI': 19,\n",
       " 'SP': 19,\n",
       " 'SC': 13,\n",
       " 'PE': 12,\n",
       " 'RN': 11,\n",
       " 'MS': 7,\n",
       " 'SE': 7,\n",
       " 'DF': 4,\n",
       " 'RR': 3}"
      ]
     },
     "execution_count": 7,
     "metadata": {},
     "output_type": "execute_result"
    }
   ],
   "source": [
    "def questao_5(caminho = \"chagas2018.csv\"):\n",
    "    df = pd.read_csv(caminho)\n",
    "    estados_com_sigla = df[\"SG_UF_NOT\"].replace(dicionario_estados)\n",
    "    contagem_por_estado = estados_com_sigla.value_counts().to_dict()\n",
    "    for estado in dicionario_estados.values():\n",
    "        if estado not in contagem_por_estado.keys():\n",
    "            contagem_por_estado[estado] = 0\n",
    "    return contagem_por_estado\n",
    "\n",
    "a2.questao_5()"
   ]
  },
  {
   "cell_type": "markdown",
   "id": "833b3627",
   "metadata": {},
   "source": [
    "Essa função usa o método `replace` na coluna `SG_UF_NOT` (que contém os códigos dos estados brasileiros), usando o dicionário `dicionario_estados` para converter os números para siglas (as outras questões que precisarem de estados também usarão esse método). Depois, o método `value_counts` é usado para contar quantos casos cada estado tem. As últimas linhas servem para adicionar os estados que não tem casos no dicionário, já que eles por padrão não apareceriam no resultado do método `value_counts`.\n",
    "\n",
    "## Questão 6\n",
    "\n",
    "Código:"
   ]
  },
  {
   "cell_type": "code",
   "execution_count": 8,
   "id": "e849a455",
   "metadata": {
    "ExecuteTime": {
     "end_time": "2023-06-24T02:25:23.455140Z",
     "start_time": "2023-06-24T02:25:23.417572Z"
    }
   },
   "outputs": [
    {
     "data": {
      "text/plain": [
       "{'PA': 1344,\n",
       " 'AP': 308,\n",
       " 'MG': 136,\n",
       " 'BA': 85,\n",
       " 'MA': 82,\n",
       " 'RO': 78,\n",
       " 'TO': 77,\n",
       " 'AC': 47,\n",
       " 'AM': 42,\n",
       " 'PB': 36,\n",
       " 'ES': 30,\n",
       " 'PR': 29,\n",
       " 'MT': 22,\n",
       " 'RS': 16,\n",
       " 'CE': 14,\n",
       " 'RJ': 14,\n",
       " 'AL': 11,\n",
       " 'GO': 10,\n",
       " 'SP': 10,\n",
       " 'RN': 7,\n",
       " 'SC': 5,\n",
       " 'PI': 5,\n",
       " 'MS': 3,\n",
       " 'PE': 3,\n",
       " 'RR': 3,\n",
       " 'DF': 2,\n",
       " 'SE': 1}"
      ]
     },
     "execution_count": 8,
     "metadata": {},
     "output_type": "execute_result"
    }
   ],
   "source": [
    "def questao_6(caminho = \"chagas2018.csv\"):\n",
    "    df = pd.read_csv(caminho)\n",
    "    df[\"SG_UF_NOT\"] = df[\"SG_UF_NOT\"].replace(dicionario_estados)\n",
    "    somente_homens = df[df[\"CS_SEXO\"] == \"M\"]\n",
    "    quant_por_estado = somente_homens[\"SG_UF_NOT\"].value_counts().to_dict()\n",
    "    for estado in dicionario_estados.values():\n",
    "        if estado not in quant_por_estado.keys():\n",
    "            quant_por_estado[estado] = 0\n",
    "    return quant_por_estado\n",
    "\n",
    "a2.questao_6()"
   ]
  },
  {
   "cell_type": "markdown",
   "id": "38d2772d",
   "metadata": {},
   "source": [
    "Essa questão faz a mesma coisa que a questão anterior, mas com um passo a mais. Ela faz as operações necessárias com um dataframe filtrado, o qual tem apenas casos registrados em homens. Esse filtro é feito usando uma simples condicional (`df[\"CS_SEXO\"] == \"M\"`).\n",
    "\n",
    "## Questão 7\n",
    "\n",
    "Código:"
   ]
  },
  {
   "cell_type": "code",
   "execution_count": 9,
   "id": "a33b160f",
   "metadata": {
    "ExecuteTime": {
     "end_time": "2023-06-24T02:25:23.493392Z",
     "start_time": "2023-06-24T02:25:23.456832Z"
    }
   },
   "outputs": [
    {
     "data": {
      "text/plain": [
       "{'AC': 0.09090909090909091,\n",
       " 'AL': 0.12745098039215685,\n",
       " 'AP': 0.125,\n",
       " 'AM': 0.16129032258064516,\n",
       " 'BA': 0.16786570743405277,\n",
       " 'CE': 0.125,\n",
       " 'DF': 1.0,\n",
       " 'ES': 0.28205128205128205,\n",
       " 'GO': 0.07723577235772358,\n",
       " 'MA': 0.04608294930875576,\n",
       " 'MT': 0.0851063829787234,\n",
       " 'MS': 0.06329113924050633,\n",
       " 'MG': 0.06213364595545135,\n",
       " 'PA': 0.4791666666666667,\n",
       " 'PB': 0.10762331838565023,\n",
       " 'PR': 0.06516290726817042,\n",
       " 'PE': 0.04864864864864865,\n",
       " 'PI': 0.04017857142857143,\n",
       " 'RN': 0.04790419161676647,\n",
       " 'RS': 0.04225352112676056,\n",
       " 'RJ': 0.16483516483516483,\n",
       " 'RO': 0.25,\n",
       " 'RR': 0.06666666666666667,\n",
       " 'SC': 0.03728813559322034,\n",
       " 'SP': 0.021705426356589147,\n",
       " 'SE': 0.05333333333333334,\n",
       " 'TO': 0.04316546762589928}"
      ]
     },
     "execution_count": 9,
     "metadata": {},
     "output_type": "execute_result"
    }
   ],
   "source": [
    "def questao_7(caminho = \"chagas2018.csv\"):\n",
    "    df = pd.read_csv(caminho)\n",
    "    cidades_por_uf = {\"AC\":22, \"AL\":102, \"AP\":16, \"AM\":62, \"BA\":417, \"CE\":184,\n",
    "                      \"DF\":1, \"ES\":78, \"GO\":246, \"MA\":217, \"MT\":141, \"MS\":79,\n",
    "                      \"MG\":853, \"PA\":144, \"PB\":223, \"PR\":399, \"PE\":185,\n",
    "                      \"PI\":224, \"RN\":167, \"RS\":497, \"RJ\":91, \"RO\":52, \"RR\":15,\n",
    "                      \"SC\":295, \"SP\":645, \"SE\":75, \"TO\":139}\n",
    "    proporcao_por_uf = dict()\n",
    "    df[\"SG_UF_NOT\"] = df[\"SG_UF_NOT\"].replace(dicionario_estados)\n",
    "    combinacoes = df.groupby([\"SG_UF_NOT\", \"ID_MUNICIP\"]).size().to_frame().reset_index()\n",
    "    cidades_apareceram = combinacoes[\"SG_UF_NOT\"].value_counts().to_dict()\n",
    "    for estado in cidades_por_uf.keys():\n",
    "        if estado in cidades_apareceram.keys():\n",
    "            proporcao_por_uf[estado] = cidades_apareceram[estado]/cidades_por_uf[estado]\n",
    "        else:\n",
    "            proporcao_por_uf[estado] = 0.0\n",
    "    return proporcao_por_uf\n",
    "\n",
    "a2.questao_7()"
   ]
  },
  {
   "cell_type": "markdown",
   "id": "8e0c1abf",
   "metadata": {},
   "source": [
    "Essa função cria um dataframe `combinacoes` usando o método `groupby` para agrupar o dataframe original baseado nos estados e municípios e o método `size`, que mostra quantas vezes uma combinação de estado e município apareceu. O objetivo da criação desse dataframe é saber quantos municipios de cada estado aparecem no total. Após sua criação, é usado o método `value_counts` para a obtenção de um dicionário contendo quantas cidades de cada estado apareceram na base principal.\n",
    "\n",
    "Por último, um dicionário com as proporções é feito (e retornado), fazendo uma divisão usando as contagens obtidas do dataframe e um dicionário pronto com a quantidade total de municípios por estado. Se não tiverem casos no estado, a chave é colocada com um valor `0.0`\n",
    "\n",
    "## Questão 8\n",
    "\n",
    "Código:"
   ]
  },
  {
   "cell_type": "code",
   "execution_count": 10,
   "id": "8d3a7672",
   "metadata": {
    "ExecuteTime": {
     "end_time": "2023-06-24T02:25:23.543225Z",
     "start_time": "2023-06-24T02:25:23.494157Z"
    }
   },
   "outputs": [
    {
     "data": {
      "text/html": [
       "<div>\n",
       "<style scoped>\n",
       "    .dataframe tbody tr th:only-of-type {\n",
       "        vertical-align: middle;\n",
       "    }\n",
       "\n",
       "    .dataframe tbody tr th {\n",
       "        vertical-align: top;\n",
       "    }\n",
       "\n",
       "    .dataframe thead th {\n",
       "        text-align: right;\n",
       "    }\n",
       "</style>\n",
       "<table border=\"1\" class=\"dataframe\">\n",
       "  <thead>\n",
       "    <tr style=\"text-align: right;\">\n",
       "      <th></th>\n",
       "      <th>DT_NOTIFICACAO</th>\n",
       "      <th>DT_SINTOMAS</th>\n",
       "      <th>ATRASO_NOT</th>\n",
       "    </tr>\n",
       "  </thead>\n",
       "  <tbody>\n",
       "    <tr>\n",
       "      <th>0</th>\n",
       "      <td>2018-12-19</td>\n",
       "      <td>2018-12-05</td>\n",
       "      <td>14</td>\n",
       "    </tr>\n",
       "    <tr>\n",
       "      <th>1</th>\n",
       "      <td>2018-11-30</td>\n",
       "      <td>2018-11-05</td>\n",
       "      <td>25</td>\n",
       "    </tr>\n",
       "    <tr>\n",
       "      <th>2</th>\n",
       "      <td>2018-10-03</td>\n",
       "      <td>2018-09-25</td>\n",
       "      <td>8</td>\n",
       "    </tr>\n",
       "    <tr>\n",
       "      <th>3</th>\n",
       "      <td>2018-01-09</td>\n",
       "      <td>2017-12-19</td>\n",
       "      <td>21</td>\n",
       "    </tr>\n",
       "    <tr>\n",
       "      <th>4</th>\n",
       "      <td>2018-08-11</td>\n",
       "      <td>2018-08-11</td>\n",
       "      <td>0</td>\n",
       "    </tr>\n",
       "    <tr>\n",
       "      <th>...</th>\n",
       "      <td>...</td>\n",
       "      <td>...</td>\n",
       "      <td>...</td>\n",
       "    </tr>\n",
       "    <tr>\n",
       "      <th>4680</th>\n",
       "      <td>2018-10-18</td>\n",
       "      <td>2018-10-10</td>\n",
       "      <td>8</td>\n",
       "    </tr>\n",
       "    <tr>\n",
       "      <th>4681</th>\n",
       "      <td>2018-02-21</td>\n",
       "      <td>2018-02-07</td>\n",
       "      <td>14</td>\n",
       "    </tr>\n",
       "    <tr>\n",
       "      <th>4682</th>\n",
       "      <td>2018-10-16</td>\n",
       "      <td>2018-04-17</td>\n",
       "      <td>182</td>\n",
       "    </tr>\n",
       "    <tr>\n",
       "      <th>4683</th>\n",
       "      <td>2018-09-11</td>\n",
       "      <td>2018-03-10</td>\n",
       "      <td>185</td>\n",
       "    </tr>\n",
       "    <tr>\n",
       "      <th>4684</th>\n",
       "      <td>2018-08-11</td>\n",
       "      <td>2018-09-30</td>\n",
       "      <td>-50</td>\n",
       "    </tr>\n",
       "  </tbody>\n",
       "</table>\n",
       "<p>4685 rows × 3 columns</p>\n",
       "</div>"
      ],
      "text/plain": [
       "     DT_NOTIFICACAO DT_SINTOMAS  ATRASO_NOT\n",
       "0        2018-12-19  2018-12-05          14\n",
       "1        2018-11-30  2018-11-05          25\n",
       "2        2018-10-03  2018-09-25           8\n",
       "3        2018-01-09  2017-12-19          21\n",
       "4        2018-08-11  2018-08-11           0\n",
       "...             ...         ...         ...\n",
       "4680     2018-10-18  2018-10-10           8\n",
       "4681     2018-02-21  2018-02-07          14\n",
       "4682     2018-10-16  2018-04-17         182\n",
       "4683     2018-09-11  2018-03-10         185\n",
       "4684     2018-08-11  2018-09-30         -50\n",
       "\n",
       "[4685 rows x 3 columns]"
      ]
     },
     "execution_count": 10,
     "metadata": {},
     "output_type": "execute_result"
    }
   ],
   "source": [
    "def questao_8(caminho = \"chagas2018.csv\"):\n",
    "    df = pd.read_csv(caminho)\n",
    "    df = df.astype({\"DT_NOTIFIC\": str, \"DT_SIN_PRI\": str}).copy() #Esse copy é para evitar um `PerformanceWarning`\n",
    "    df[\"DT_NOTIFICACAO\"] = pd.to_datetime(df[\"DT_NOTIFIC\"])\n",
    "    df[\"DT_SINTOMAS\"] = pd.to_datetime(df[\"DT_SIN_PRI\"])\n",
    "    df[\"ATRASO_NOT\"] = (df[\"DT_NOTIFICACAO\"] - df[\"DT_SINTOMAS\"]).dt.days\n",
    "    return df[[\"DT_NOTIFICACAO\", \"DT_SINTOMAS\", \"ATRASO_NOT\"]]\n",
    "\n",
    "a2.questao_8()"
   ]
  },
  {
   "cell_type": "markdown",
   "id": "40a047f8",
   "metadata": {},
   "source": [
    "Na função, as colunas referentes as datas necessárias são convertidas para o formato `string`, para que a função `to_datetime` da biblioteca pandas possa converter essas colunas para o formato `datetime` corretamente (se elas estivessem em formato `int`, seriam interpretadas como segundos). Em seguida é criada uma coluna contendo a quantidade de dias de atraso para cada caso, fazendo uma operação de subtração com as duas outras colunas e usando o atributo `dt.days` do resultado para obter a quantidade de dias de diferença. O retorno é um dataframe com as três colunas pedidas na questão.\n",
    "\n",
    "## Questão 9\n",
    "\n",
    "Código"
   ]
  },
  {
   "cell_type": "code",
   "execution_count": 11,
   "id": "23b0c0e8",
   "metadata": {
    "ExecuteTime": {
     "end_time": "2023-06-24T02:25:23.593145Z",
     "start_time": "2023-06-24T02:25:23.543967Z"
    }
   },
   "outputs": [
    {
     "data": {
      "text/plain": [
       "{'AC': (29.94047619047619, 60.464338028828905),\n",
       " 'AL': (64.62962962962963, 90.89983843099297),\n",
       " 'AP': (21.798561151079138, 33.649101800494435),\n",
       " 'AM': (7.466666666666667, 23.3763541337025),\n",
       " 'BA': (31.23756906077348, 61.19280933294128),\n",
       " 'CE': (104.97058823529412, 318.4879508965922),\n",
       " 'DF': (62.5, 111.09305408830322),\n",
       " 'ES': (25.96551724137931, 47.30637934698395),\n",
       " 'GO': (51.09090909090909, 68.31921509732932),\n",
       " 'MA': (14.160919540229886, 13.442124765999708),\n",
       " 'MT': (16.951219512195124, 43.064458210635955),\n",
       " 'MS': (24.0, 57.49202843293437),\n",
       " 'MG': (29.461254612546124, 43.640167666676916),\n",
       " 'PA': (22.052711993888465, 35.02722739058979),\n",
       " 'PB': (43.44444444444444, 48.0811780950816),\n",
       " 'PR': (35.839285714285715, 65.05571787761187),\n",
       " 'PE': (23.25, 22.676078705423155),\n",
       " 'PI': (33.10526315789474, 62.90018083072585),\n",
       " 'RN': (33.90909090909091, 49.053959158164886),\n",
       " 'RS': (47.3448275862069, 75.79260982730109),\n",
       " 'RJ': (14.185185185185185, 28.490264244038816),\n",
       " 'RO': (37.221374045801525, 64.08051306770687),\n",
       " 'RR': (12.333333333333334, 13.576941236277534),\n",
       " 'SC': (43.0, 52.06726418777925),\n",
       " 'SP': (38.10526315789474, 67.7437120795413),\n",
       " 'SE': (30.285714285714285, 35.29265403127722),\n",
       " 'TO': (24.630252100840337, 28.13793673733402)}"
      ]
     },
     "execution_count": 11,
     "metadata": {},
     "output_type": "execute_result"
    }
   ],
   "source": [
    "def questao_9(caminho = \"chagas2018.csv\"):\n",
    "    df = pd.read_csv(caminho)\n",
    "    medias_e_desvios = dict()\n",
    "    df[\"SG_UF_NOT\"] = df[\"SG_UF_NOT\"].replace(dicionario_estados)\n",
    "    df = df.astype({\"DT_NOTIFIC\": str, \"DT_SIN_PRI\": str}).copy()\n",
    "    df[\"DT_NOTIFICACAO\"] = pd.to_datetime(df[\"DT_NOTIFIC\"])\n",
    "    df[\"DT_SINTOMAS\"] = pd.to_datetime(df[\"DT_SIN_PRI\"])\n",
    "    df[\"ATRASO_NOT\"] = (df[\"DT_NOTIFICACAO\"] - df[\"DT_SINTOMAS\"]).dt.days\n",
    "    media_atrasos = df.groupby(\"SG_UF_NOT\")[\"ATRASO_NOT\"].mean().to_dict()\n",
    "    desvio_atrasos = df.groupby(\"SG_UF_NOT\")[\"ATRASO_NOT\"].std().to_dict()\n",
    "    for estado in dicionario_estados.values():\n",
    "        if estado in media_atrasos:\n",
    "            medias_e_desvios[estado] = (media_atrasos[estado], desvio_atrasos[estado])\n",
    "        else:\n",
    "            medias_e_desvios[estado] = (0, 0)\n",
    "    return medias_e_desvios\n",
    "\n",
    "a2.questao_9()"
   ]
  },
  {
   "cell_type": "markdown",
   "id": "e2f21d6f",
   "metadata": {},
   "source": [
    "O começo da programação dessa questão é igual à anterior: uma coluna no dataframe com os atrasos é criada. Após isso, usando os métodos `mean` e `std` (em conjunto com o método `groupby` para fazer o agrupamento por estado) são obtidas as médias e desvios padrões do atraso para cada estado. Por último, o dicionário contendo as tuplas com essas informações é feito e retornado.\n",
    "\n",
    "## Questão 10\n",
    "\n",
    "Código:"
   ]
  },
  {
   "cell_type": "code",
   "execution_count": 13,
   "id": "8f20934c",
   "metadata": {
    "ExecuteTime": {
     "end_time": "2023-06-24T02:27:48.593098Z",
     "start_time": "2023-06-24T02:27:48.429077Z"
    }
   },
   "outputs": [
    {
     "name": "stderr",
     "output_type": "stream",
     "text": [
      "/home/pedro/Modelos/Faculdade/IC/analise-pysus/venv/lib/python3.11/site-packages/pandas/plotting/_matplotlib/core.py:1114: UserWarning: No data for colormapping provided via 'c'. Parameters 'cmap' will be ignored\n",
      "  scatter = ax.scatter(\n"
     ]
    },
    {
     "data": {
      "text/plain": [
       "ID_MUNICIP\n",
       "110008    143.000000\n",
       "110009     32.333333\n",
       "110012     41.183673\n",
       "110013     20.857143\n",
       "110020     16.250000\n",
       "             ...    \n",
       "521720     44.000000\n",
       "521730      8.000000\n",
       "521800      0.000000\n",
       "522005      0.000000\n",
       "530010     62.500000\n",
       "Name: ATRASO_NOT, Length: 472, dtype: float64"
      ]
     },
     "execution_count": 13,
     "metadata": {},
     "output_type": "execute_result"
    },
    {
     "data": {
      "image/png": "[encoded data removed]",
      "text/plain": [
       "<Figure size 640x480 with 1 Axes>"
      ]
     },
     "metadata": {},
     "output_type": "display_data"
    }
   ],
   "source": [
    "def questao_10(caminho = \"chagas2018.csv\"):\n",
    "    df = pd.read_csv(caminho)\n",
    "    df = df.astype({\"DT_NOTIFIC\": str, \"DT_SIN_PRI\": str}).copy()\n",
    "    df[\"DT_NOTIFICACAO\"] = pd.to_datetime(df[\"DT_NOTIFIC\"])\n",
    "    df[\"DT_SINTOMAS\"] = pd.to_datetime(df[\"DT_SIN_PRI\"])\n",
    "    df[\"ATRASO_NOT\"] = (df[\"DT_NOTIFICACAO\"] - df[\"DT_SINTOMAS\"]).dt.days\n",
    "    media_atraso_mun = df.groupby([\"ID_MUNICIP\"])[\"ATRASO_NOT\"].mean()\n",
    "    media_atraso_mun_df = media_atraso_mun.to_frame().reset_index()\n",
    "    casos_por_municipio = df[\"ID_MUNICIP\"].value_counts().to_frame(name = \"NUM_CASOS\").rename_axis(\"ID_MUNICIP\").reset_index()\n",
    "    dataframe_plot = pd.merge(media_atraso_mun_df, casos_por_municipio, on = \"ID_MUNICIP\")\n",
    "    dataframe_plot.plot.scatter(\n",
    "        x=\"NUM_CASOS\",\n",
    "        y=\"ATRASO_NOT\",\n",
    "        title=\"Quantidade de Casos por Média de Atraso de Notificação por Município\",\n",
    "        xlabel=\"Número de Casos\",\n",
    "        ylabel = \"Média de Atraso de Notificação\",\n",
    "        color=\"red\"\n",
    "    )\n",
    "    return media_atraso_mun\n",
    "\n",
    "a2.questao_10()"
   ]
  },
  {
   "cell_type": "markdown",
   "id": "960ed027",
   "metadata": {},
   "source": [
    "Esta função possui dois objetivos: retornar uma série do pandas contendo a média de atraso entre o dia em que os sintomas foram apresentados e o dia em que o caso foi notificado por município e gerar um gráfico no qual é possível analisar a quantidade de dias de atraso por número de casos.\n",
    "\n",
    "Primeiro, é feita a coluna com os atrasos de notificação. Usando essa coluna, o método `mean` e o método `groupby`, assim como na questão anterior, é criada uma série (retornada no final da função) contendo a quantidade média de atraso por município.\n",
    "\n",
    "Uma cópia da série criada anteriormente é feita, porém no formato `DataFrame`. Um outro dataframe contendo a quantidade de casos por munícipio é criado para que enfim os dois possam ser mesclados em um só usando a função `merge`. Esse dataframe será usado na criação do gráfico.\n",
    "Para o desenvolvimento do gráfico utiliza-se o método `plot.scatter()`, passando como argumentos as colunas a serem utilizadas para os eixos *x* e *y*, informações de como estes devem aparecer no gráfico, título do gráfico, e cor dos glifos. Esse método exibe automaticamente o gráfico, não sendo necessário nenhum retorno além da série pedida na questão."
   ]
  }
 ],
 "metadata": {
  "kernelspec": {
   "display_name": "IC",
   "language": "python",
   "name": "ic"
  },
  "language_info": {
   "codemirror_mode": {
    "name": "ipython",
    "version": 3
   },
   "file_extension": ".py",
   "mimetype": "text/x-python",
   "name": "python",
   "nbconvert_exporter": "python",
   "pygments_lexer": "ipython3",
   "version": "3.11.3"
  },
  "varInspector": {
   "cols": {
    "lenName": 16,
    "lenType": 16,
    "lenVar": 40
   },
   "kernels_config": {
    "python": {
     "delete_cmd_postfix": "",
     "delete_cmd_prefix": "del ",
     "library": "var_list.py",
     "varRefreshCmd": "print(var_dic_list())"
    },
    "r": {
     "delete_cmd_postfix": ") ",
     "delete_cmd_prefix": "rm(",
     "library": "var_list.r",
     "varRefreshCmd": "cat(var_dic_list()) "
    }
   },
   "types_to_exclude": [
    "module",
    "function",
    "builtin_function_or_method",
    "instance",
    "_Feature"
   ],
   "window_display": true
  }
 },
 "nbformat": 4,
 "nbformat_minor": 5
}
