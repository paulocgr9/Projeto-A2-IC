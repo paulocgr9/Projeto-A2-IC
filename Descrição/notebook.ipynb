{
 "cells": [
  {
   "cell_type": "code",
   "execution_count": 1,
   "id": "3d7f2d8f",
   "metadata": {
    "ExecuteTime": {
     "end_time": "2023-06-20T23:20:40.338051Z",
     "start_time": "2023-06-20T23:20:39.685782Z"
    }
   },
   "outputs": [],
   "source": [
    "import a2\n",
    "import pandas as pd\n",
    "CAMINHO = \"paralisiainfantil.csv\""
   ]
  },
  {
   "cell_type": "code",
   "execution_count": 2,
   "id": "ea11b3de",
   "metadata": {
    "ExecuteTime": {
     "end_time": "2023-06-20T23:20:40.927316Z",
     "start_time": "2023-06-20T23:20:40.885350Z"
    }
   },
   "outputs": [
    {
     "data": {
      "text/plain": [
       "475"
      ]
     },
     "execution_count": 2,
     "metadata": {},
     "output_type": "execute_result"
    }
   ],
   "source": [
    "a2.questao_1(CAMINHO)"
   ]
  },
  {
   "cell_type": "code",
   "execution_count": 3,
   "id": "dbd84b80",
   "metadata": {
    "ExecuteTime": {
     "end_time": "2023-06-20T23:20:41.542479Z",
     "start_time": "2023-06-20T23:20:41.523560Z"
    }
   },
   "outputs": [
    {
     "data": {
      "text/plain": [
       "261160    62\n",
       "355030    28\n",
       "211130    21\n",
       "130260    20\n",
       "250750    18\n",
       "          ..\n",
       "430460     1\n",
       "170255     1\n",
       "421580     1\n",
       "353080     1\n",
       "171880     1\n",
       "Name: ID_MUNICIP, Length: 120, dtype: int64"
      ]
     },
     "execution_count": 3,
     "metadata": {},
     "output_type": "execute_result"
    }
   ],
   "source": [
    "a2.questao_2(CAMINHO)"
   ]
  },
  {
   "cell_type": "code",
   "execution_count": 4,
   "id": "ae59e191",
   "metadata": {
    "ExecuteTime": {
     "end_time": "2023-06-20T23:20:41.997848Z",
     "start_time": "2023-06-20T23:20:41.980533Z"
    }
   },
   "outputs": [
    {
     "data": {
      "text/plain": [
       "('M', {'M': 271, 'F': 204})"
      ]
     },
     "execution_count": 4,
     "metadata": {},
     "output_type": "execute_result"
    }
   ],
   "source": [
    "a2.questao_3(CAMINHO)"
   ]
  },
  {
   "cell_type": "code",
   "execution_count": 5,
   "id": "888d1218",
   "metadata": {
    "ExecuteTime": {
     "end_time": "2023-06-20T23:20:42.326602Z",
     "start_time": "2023-06-20T23:20:42.288602Z"
    }
   },
   "outputs": [
    {
     "data": {
      "text/plain": [
       "6.441403508771931"
      ]
     },
     "execution_count": 5,
     "metadata": {},
     "output_type": "execute_result"
    }
   ],
   "source": [
    "a2.questao_4(CAMINHO)"
   ]
  },
  {
   "cell_type": "code",
   "execution_count": 6,
   "id": "45a16c78",
   "metadata": {
    "ExecuteTime": {
     "end_time": "2023-06-20T23:20:42.616524Z",
     "start_time": "2023-06-20T23:20:42.595446Z"
    }
   },
   "outputs": [
    {
     "data": {
      "text/plain": [
       "{'SP': 76,\n",
       " 'PE': 62,\n",
       " 'PR': 41,\n",
       " 'MG': 40,\n",
       " 'BA': 35,\n",
       " 'RS': 26,\n",
       " 'MA': 22,\n",
       " 'RJ': 21,\n",
       " 'AM': 20,\n",
       " 'PB': 18,\n",
       " 'AL': 13,\n",
       " 'RN': 12,\n",
       " 'PA': 11,\n",
       " 'PI': 11,\n",
       " 'GO': 10,\n",
       " 'TO': 9,\n",
       " 'SE': 9,\n",
       " 'DF': 8,\n",
       " 'RO': 5,\n",
       " 'MS': 5,\n",
       " 'MT': 4,\n",
       " 'CE': 4,\n",
       " 'ES': 4,\n",
       " 'AC': 3,\n",
       " 'SC': 3,\n",
       " 'AP': 3}"
      ]
     },
     "execution_count": 6,
     "metadata": {},
     "output_type": "execute_result"
    }
   ],
   "source": [
    "a2.questao_5(CAMINHO)"
   ]
  },
  {
   "cell_type": "code",
   "execution_count": 7,
   "id": "7d9c0d65",
   "metadata": {
    "ExecuteTime": {
     "end_time": "2023-06-20T23:20:42.887400Z",
     "start_time": "2023-06-20T23:20:42.863852Z"
    }
   },
   "outputs": [
    {
     "data": {
      "text/plain": [
       "{'SP': 43,\n",
       " 'PE': 34,\n",
       " 'BA': 27,\n",
       " 'PR': 27,\n",
       " 'MG': 19,\n",
       " 'RS': 18,\n",
       " 'RJ': 12,\n",
       " 'PB': 11,\n",
       " 'AM': 9,\n",
       " 'MA': 9,\n",
       " 'AL': 8,\n",
       " 'PI': 8,\n",
       " 'TO': 6,\n",
       " 'SE': 6,\n",
       " 'DF': 5,\n",
       " 'RN': 5,\n",
       " 'GO': 4,\n",
       " 'PA': 4,\n",
       " 'CE': 4,\n",
       " 'RO': 3,\n",
       " 'MS': 3,\n",
       " 'AC': 2,\n",
       " 'MT': 2,\n",
       " 'SC': 1,\n",
       " 'AP': 1}"
      ]
     },
     "execution_count": 7,
     "metadata": {},
     "output_type": "execute_result"
    }
   ],
   "source": [
    "a2.questao_6(CAMINHO)"
   ]
  },
  {
   "cell_type": "code",
   "execution_count": 8,
   "id": "0812fc6b",
   "metadata": {
    "ExecuteTime": {
     "end_time": "2023-06-20T23:20:43.199499Z",
     "start_time": "2023-06-20T23:20:43.178680Z"
    }
   },
   "outputs": [
    {
     "data": {
      "text/plain": [
       "{'AC': 0.09090909090909091,\n",
       " 'AL': 0.0196078431372549,\n",
       " 'AP': 0.0625,\n",
       " 'AM': 0.016129032258064516,\n",
       " 'BA': 0.016786570743405275,\n",
       " 'CE': 0.005434782608695652,\n",
       " 'DF': 1.0,\n",
       " 'ES': 0.038461538461538464,\n",
       " 'GO': 0.008130081300813009,\n",
       " 'MA': 0.009216589861751152,\n",
       " 'MT': 0.014184397163120567,\n",
       " 'MS': 0.02531645569620253,\n",
       " 'MG': 0.017584994138335287,\n",
       " 'PA': 0.034722222222222224,\n",
       " 'PB': 0.004484304932735426,\n",
       " 'PR': 0.047619047619047616,\n",
       " 'PE': 0.005405405405405406,\n",
       " 'PI': 0.004464285714285714,\n",
       " 'RN': 0.011976047904191617,\n",
       " 'RS': 0.018108651911468814,\n",
       " 'RJ': 0.04395604395604396,\n",
       " 'RO': 0.019230769230769232,\n",
       " 'RR': 0.0,\n",
       " 'SC': 0.010169491525423728,\n",
       " 'SP': 0.043410852713178294,\n",
       " 'SE': 0.013333333333333334,\n",
       " 'TO': 0.02877697841726619}"
      ]
     },
     "execution_count": 8,
     "metadata": {},
     "output_type": "execute_result"
    }
   ],
   "source": [
    "a2.questao_7(CAMINHO)"
   ]
  },
  {
   "cell_type": "code",
   "execution_count": 9,
   "id": "af2c8238",
   "metadata": {
    "ExecuteTime": {
     "end_time": "2023-06-20T23:20:43.676977Z",
     "start_time": "2023-06-20T23:20:43.498159Z"
    }
   },
   "outputs": [
    {
     "name": "stderr",
     "output_type": "stream",
     "text": [
      "/home/pedro/Modelos/Faculdade/IC/Projeto-A2-IC/Descrição/a2.py:81: PerformanceWarning: DataFrame is highly fragmented.  This is usually the result of calling `frame.insert` many times, which has poor performance.  Consider joining all columns at once using pd.concat(axis=1) instead. To get a de-fragmented frame, use `newframe = frame.copy()`\n",
      "  df[\"DT_NOTIFICACAO\"] = pd.to_datetime(df[\"DT_NOTIFIC\"])\n",
      "/home/pedro/Modelos/Faculdade/IC/Projeto-A2-IC/Descrição/a2.py:82: PerformanceWarning: DataFrame is highly fragmented.  This is usually the result of calling `frame.insert` many times, which has poor performance.  Consider joining all columns at once using pd.concat(axis=1) instead. To get a de-fragmented frame, use `newframe = frame.copy()`\n",
      "  df[\"DT_SINTOMAS\"] = pd.to_datetime(df[\"DT_SIN_PRI\"])\n",
      "/home/pedro/Modelos/Faculdade/IC/Projeto-A2-IC/Descrição/a2.py:83: PerformanceWarning: DataFrame is highly fragmented.  This is usually the result of calling `frame.insert` many times, which has poor performance.  Consider joining all columns at once using pd.concat(axis=1) instead. To get a de-fragmented frame, use `newframe = frame.copy()`\n",
      "  df[\"ATRASO_NOT\"] = (df[\"DT_NOTIFICACAO\"] - df[\"DT_SINTOMAS\"]).dt.days\n"
     ]
    },
    {
     "data": {
      "text/html": [
       "<div>\n",
       "<style scoped>\n",
       "    .dataframe tbody tr th:only-of-type {\n",
       "        vertical-align: middle;\n",
       "    }\n",
       "\n",
       "    .dataframe tbody tr th {\n",
       "        vertical-align: top;\n",
       "    }\n",
       "\n",
       "    .dataframe thead th {\n",
       "        text-align: right;\n",
       "    }\n",
       "</style>\n",
       "<table border=\"1\" class=\"dataframe\">\n",
       "  <thead>\n",
       "    <tr style=\"text-align: right;\">\n",
       "      <th></th>\n",
       "      <th>DT_NOTIFICACAO</th>\n",
       "      <th>DT_SINTOMAS</th>\n",
       "      <th>ATRASO_NOT</th>\n",
       "    </tr>\n",
       "  </thead>\n",
       "  <tbody>\n",
       "    <tr>\n",
       "      <th>0</th>\n",
       "      <td>2015-01-05</td>\n",
       "      <td>2015-01-03</td>\n",
       "      <td>2</td>\n",
       "    </tr>\n",
       "    <tr>\n",
       "      <th>1</th>\n",
       "      <td>2015-01-06</td>\n",
       "      <td>2015-01-05</td>\n",
       "      <td>1</td>\n",
       "    </tr>\n",
       "    <tr>\n",
       "      <th>2</th>\n",
       "      <td>2015-01-06</td>\n",
       "      <td>2015-01-01</td>\n",
       "      <td>5</td>\n",
       "    </tr>\n",
       "    <tr>\n",
       "      <th>3</th>\n",
       "      <td>2015-01-12</td>\n",
       "      <td>2015-01-06</td>\n",
       "      <td>6</td>\n",
       "    </tr>\n",
       "    <tr>\n",
       "      <th>4</th>\n",
       "      <td>2015-01-12</td>\n",
       "      <td>2015-01-10</td>\n",
       "      <td>2</td>\n",
       "    </tr>\n",
       "    <tr>\n",
       "      <th>...</th>\n",
       "      <td>...</td>\n",
       "      <td>...</td>\n",
       "      <td>...</td>\n",
       "    </tr>\n",
       "    <tr>\n",
       "      <th>470</th>\n",
       "      <td>2016-01-29</td>\n",
       "      <td>2015-12-24</td>\n",
       "      <td>36</td>\n",
       "    </tr>\n",
       "    <tr>\n",
       "      <th>471</th>\n",
       "      <td>2016-02-01</td>\n",
       "      <td>2015-12-31</td>\n",
       "      <td>32</td>\n",
       "    </tr>\n",
       "    <tr>\n",
       "      <th>472</th>\n",
       "      <td>2016-02-03</td>\n",
       "      <td>2015-12-11</td>\n",
       "      <td>54</td>\n",
       "    </tr>\n",
       "    <tr>\n",
       "      <th>473</th>\n",
       "      <td>2016-02-18</td>\n",
       "      <td>2015-12-06</td>\n",
       "      <td>74</td>\n",
       "    </tr>\n",
       "    <tr>\n",
       "      <th>474</th>\n",
       "      <td>2016-02-19</td>\n",
       "      <td>2015-10-04</td>\n",
       "      <td>138</td>\n",
       "    </tr>\n",
       "  </tbody>\n",
       "</table>\n",
       "<p>475 rows × 3 columns</p>\n",
       "</div>"
      ],
      "text/plain": [
       "    DT_NOTIFICACAO DT_SINTOMAS  ATRASO_NOT\n",
       "0       2015-01-05  2015-01-03           2\n",
       "1       2015-01-06  2015-01-05           1\n",
       "2       2015-01-06  2015-01-01           5\n",
       "3       2015-01-12  2015-01-06           6\n",
       "4       2015-01-12  2015-01-10           2\n",
       "..             ...         ...         ...\n",
       "470     2016-01-29  2015-12-24          36\n",
       "471     2016-02-01  2015-12-31          32\n",
       "472     2016-02-03  2015-12-11          54\n",
       "473     2016-02-18  2015-12-06          74\n",
       "474     2016-02-19  2015-10-04         138\n",
       "\n",
       "[475 rows x 3 columns]"
      ]
     },
     "execution_count": 9,
     "metadata": {},
     "output_type": "execute_result"
    }
   ],
   "source": [
    "a2.questao_8(CAMINHO)"
   ]
  },
  {
   "cell_type": "code",
   "execution_count": 10,
   "id": "e7eceaa2",
   "metadata": {
    "ExecuteTime": {
     "end_time": "2023-06-20T23:20:43.844678Z",
     "start_time": "2023-06-20T23:20:43.811741Z"
    }
   },
   "outputs": [
    {
     "name": "stderr",
     "output_type": "stream",
     "text": [
      "/home/pedro/Modelos/Faculdade/IC/Projeto-A2-IC/Descrição/a2.py:91: PerformanceWarning: DataFrame is highly fragmented.  This is usually the result of calling `frame.insert` many times, which has poor performance.  Consider joining all columns at once using pd.concat(axis=1) instead. To get a de-fragmented frame, use `newframe = frame.copy()`\n",
      "  df[\"DT_NOTIFICACAO\"] = pd.to_datetime(df[\"DT_NOTIFIC\"])\n",
      "/home/pedro/Modelos/Faculdade/IC/Projeto-A2-IC/Descrição/a2.py:92: PerformanceWarning: DataFrame is highly fragmented.  This is usually the result of calling `frame.insert` many times, which has poor performance.  Consider joining all columns at once using pd.concat(axis=1) instead. To get a de-fragmented frame, use `newframe = frame.copy()`\n",
      "  df[\"DT_SINTOMAS\"] = pd.to_datetime(df[\"DT_SIN_PRI\"])\n",
      "/home/pedro/Modelos/Faculdade/IC/Projeto-A2-IC/Descrição/a2.py:93: PerformanceWarning: DataFrame is highly fragmented.  This is usually the result of calling `frame.insert` many times, which has poor performance.  Consider joining all columns at once using pd.concat(axis=1) instead. To get a de-fragmented frame, use `newframe = frame.copy()`\n",
      "  df[\"ATRASO_NOT\"] = (df[\"DT_NOTIFICACAO\"] - df[\"DT_SINTOMAS\"]).dt.days\n"
     ]
    },
    {
     "data": {
      "text/plain": [
       "{'AC': (3.0, 0.0),\n",
       " 'AL': (9.153846153846153, 5.610201331000428),\n",
       " 'AP': (26.0, 16.522711641858304),\n",
       " 'AM': (8.1, 8.64443843112285),\n",
       " 'BA': (8.457142857142857, 7.901388028258658),\n",
       " 'CE': (8.0, 9.018499505645789),\n",
       " 'DF': (5.75, 6.341473465550866),\n",
       " 'ES': (6.5, 4.79583152331272),\n",
       " 'GO': (7.5, 10.51189802081432),\n",
       " 'MA': (13.5, 15.045170084021745),\n",
       " 'MT': (18.25, 10.812801055539063),\n",
       " 'MS': (4.4, 1.6733200530681511),\n",
       " 'MG': (15.9, 28.870000399669607),\n",
       " 'PA': (14.363636363636363, 16.70492578416754),\n",
       " 'PB': (4.666666666666667, 3.9556363361069242),\n",
       " 'PR': (13.170731707317072, 25.040869033466464),\n",
       " 'PE': (17.693548387096776, 50.74674784368685),\n",
       " 'PI': (11.454545454545455, 9.363371576132566),\n",
       " 'RN': (5.333333333333333, 3.3933982252531925),\n",
       " 'RS': (39.42307692307692, 56.28866534351162),\n",
       " 'RJ': (42.904761904761905, 54.265002314479595),\n",
       " 'RO': (3.6, 2.3021728866442674),\n",
       " 'RR': (0, 0),\n",
       " 'SC': (8.0, 11.357816691600547),\n",
       " 'SP': (19.42105263157895, 30.028547820541146),\n",
       " 'SE': (6.333333333333333, 5.04975246918104),\n",
       " 'TO': (29.22222222222222, 31.30406434385868)}"
      ]
     },
     "execution_count": 10,
     "metadata": {},
     "output_type": "execute_result"
    }
   ],
   "source": [
    "a2.questao_9(CAMINHO)"
   ]
  },
  {
   "cell_type": "code",
   "execution_count": 11,
   "id": "d318c2d0",
   "metadata": {
    "ExecuteTime": {
     "end_time": "2023-06-20T23:20:44.301505Z",
     "start_time": "2023-06-20T23:20:44.101782Z"
    }
   },
   "outputs": [
    {
     "name": "stderr",
     "output_type": "stream",
     "text": [
      "/home/pedro/Modelos/Faculdade/IC/Projeto-A2-IC/Descrição/a2.py:106: PerformanceWarning: DataFrame is highly fragmented.  This is usually the result of calling `frame.insert` many times, which has poor performance.  Consider joining all columns at once using pd.concat(axis=1) instead. To get a de-fragmented frame, use `newframe = frame.copy()`\n",
      "  df[\"DT_NOTIFICACAO\"] = pd.to_datetime(df[\"DT_NOTIFIC\"])\n",
      "/home/pedro/Modelos/Faculdade/IC/Projeto-A2-IC/Descrição/a2.py:107: PerformanceWarning: DataFrame is highly fragmented.  This is usually the result of calling `frame.insert` many times, which has poor performance.  Consider joining all columns at once using pd.concat(axis=1) instead. To get a de-fragmented frame, use `newframe = frame.copy()`\n",
      "  df[\"DT_SINTOMAS\"] = pd.to_datetime(df[\"DT_SIN_PRI\"])\n",
      "/home/pedro/Modelos/Faculdade/IC/Projeto-A2-IC/Descrição/a2.py:108: PerformanceWarning: DataFrame is highly fragmented.  This is usually the result of calling `frame.insert` many times, which has poor performance.  Consider joining all columns at once using pd.concat(axis=1) instead. To get a de-fragmented frame, use `newframe = frame.copy()`\n",
      "  df[\"ATRASO_NOT\"] = (df[\"DT_NOTIFICACAO\"] - df[\"DT_SINTOMAS\"]).dt.days\n",
      "/home/pedro/Modelos/Faculdade/IC/analise-pysus/venv/lib/python3.11/site-packages/pandas/plotting/_matplotlib/core.py:1114: UserWarning: No data for colormapping provided via 'c'. Parameters 'cmap' will be ignored\n",
      "  scatter = ax.scatter(\n"
     ]
    },
    {
     "data": {
      "text/plain": [
       "ID_MUNICIP\n",
       "110020     3.600000\n",
       "120010     3.000000\n",
       "120040     3.000000\n",
       "130260     8.100000\n",
       "150140    10.333333\n",
       "            ...    \n",
       "510250    16.000000\n",
       "510340    19.000000\n",
       "520870     7.888889\n",
       "521250     4.000000\n",
       "530010     5.750000\n",
       "Name: ATRASO_NOT, Length: 120, dtype: float64"
      ]
     },
     "execution_count": 11,
     "metadata": {},
     "output_type": "execute_result"
    },
    {
     "data": {
      "image/png": "[encoded data removed]",
      "text/plain": [
       "<Figure size 640x480 with 1 Axes>"
      ]
     },
     "metadata": {},
     "output_type": "display_data"
    }
   ],
   "source": [
    "a2.questao_10(CAMINHO)"
   ]
  },
  {
   "cell_type": "code",
   "execution_count": 12,
   "id": "dc3f5e70",
   "metadata": {
    "ExecuteTime": {
     "end_time": "2023-06-20T23:20:46.306886Z",
     "start_time": "2023-06-20T23:20:46.304835Z"
    }
   },
   "outputs": [],
   "source": [
    "CAMINHO = \"dengue2010.csv\""
   ]
  },
  {
   "cell_type": "code",
   "execution_count": 13,
   "id": "80fe4b40",
   "metadata": {
    "ExecuteTime": {
     "end_time": "2023-06-20T23:20:53.870775Z",
     "start_time": "2023-06-20T23:20:46.777649Z"
    }
   },
   "outputs": [
    {
     "name": "stderr",
     "output_type": "stream",
     "text": [
      "/home/pedro/Modelos/Faculdade/IC/Projeto-A2-IC/Descrição/a2.py:15: DtypeWarning: Columns (8,9,14,17,18,19,59,66) have mixed types. Specify dtype option on import or set low_memory=False.\n",
      "  df = pd.read_csv(caminho)\n"
     ]
    },
    {
     "data": {
      "text/plain": [
       "1381254"
      ]
     },
     "execution_count": 13,
     "metadata": {},
     "output_type": "execute_result"
    }
   ],
   "source": [
    "a2.questao_1(CAMINHO)"
   ]
  },
  {
   "cell_type": "code",
   "execution_count": 14,
   "id": "60c44a60",
   "metadata": {
    "ExecuteTime": {
     "end_time": "2023-06-20T23:21:00.770352Z",
     "start_time": "2023-06-20T23:20:55.820793Z"
    }
   },
   "outputs": [
    {
     "name": "stderr",
     "output_type": "stream",
     "text": [
      "/home/pedro/Modelos/Faculdade/IC/Projeto-A2-IC/Descrição/a2.py:19: DtypeWarning: Columns (8,9,14,17,18,19,59,66) have mixed types. Specify dtype option on import or set low_memory=False.\n",
      "  df = pd.read_csv(caminho)\n"
     ]
    },
    {
     "data": {
      "text/plain": [
       "310620    71056\n",
       "520870    48397\n",
       "500270    42761\n",
       "120040    38333\n",
       "354340    36107\n",
       "          ...  \n",
       "170025        1\n",
       "412265        1\n",
       "432375        1\n",
       "410832        1\n",
       "430745        1\n",
       "Name: ID_MUNICIP, Length: 4307, dtype: int64"
      ]
     },
     "execution_count": 14,
     "metadata": {},
     "output_type": "execute_result"
    }
   ],
   "source": [
    "a2.questao_2(CAMINHO)"
   ]
  },
  {
   "cell_type": "code",
   "execution_count": 15,
   "id": "fb7369cb",
   "metadata": {
    "ExecuteTime": {
     "end_time": "2023-06-20T23:21:06.966916Z",
     "start_time": "2023-06-20T23:21:02.208926Z"
    }
   },
   "outputs": [
    {
     "name": "stderr",
     "output_type": "stream",
     "text": [
      "/home/pedro/Modelos/Faculdade/IC/Projeto-A2-IC/Descrição/a2.py:24: DtypeWarning: Columns (8,9,14,17,18,19,59,66) have mixed types. Specify dtype option on import or set low_memory=False.\n",
      "  df = pd.read_csv(caminho)\n"
     ]
    },
    {
     "data": {
      "text/plain": [
       "('F', {'F': 756417, 'M': 624572})"
      ]
     },
     "execution_count": 15,
     "metadata": {},
     "output_type": "execute_result"
    }
   ],
   "source": [
    "a2.questao_3(CAMINHO)"
   ]
  },
  {
   "cell_type": "code",
   "execution_count": 16,
   "id": "352ac7f8",
   "metadata": {
    "ExecuteTime": {
     "end_time": "2023-06-20T23:21:12.910709Z",
     "start_time": "2023-06-20T23:21:08.032123Z"
    }
   },
   "outputs": [
    {
     "name": "stderr",
     "output_type": "stream",
     "text": [
      "/home/pedro/Modelos/Faculdade/IC/Projeto-A2-IC/Descrição/a2.py:42: DtypeWarning: Columns (8,9,14,17,18,19,59,66) have mixed types. Specify dtype option on import or set low_memory=False.\n",
      "  df = pd.read_csv(caminho)\n"
     ]
    },
    {
     "data": {
      "text/plain": [
       "30.86428475214209"
      ]
     },
     "execution_count": 16,
     "metadata": {},
     "output_type": "execute_result"
    }
   ],
   "source": [
    "a2.questao_4(CAMINHO)"
   ]
  },
  {
   "cell_type": "code",
   "execution_count": 17,
   "id": "68e717d0",
   "metadata": {
    "ExecuteTime": {
     "end_time": "2023-06-20T23:21:20.268224Z",
     "start_time": "2023-06-20T23:21:15.272983Z"
    }
   },
   "outputs": [
    {
     "name": "stderr",
     "output_type": "stream",
     "text": [
      "/home/pedro/Modelos/Faculdade/IC/Projeto-A2-IC/Descrição/a2.py:48: DtypeWarning: Columns (8,9,14,17,18,19,59,66) have mixed types. Specify dtype option on import or set low_memory=False.\n",
      "  df = pd.read_csv(caminho)\n"
     ]
    },
    {
     "data": {
      "text/plain": [
       "{'SP': 305088,\n",
       " 'MG': 266718,\n",
       " 'GO': 116579,\n",
       " 'MS': 86718,\n",
       " 'PR': 67371,\n",
       " 'BA': 62161,\n",
       " 'PE': 59621,\n",
       " 'AL': 54539,\n",
       " 'MT': 45618,\n",
       " 'RJ': 42392,\n",
       " 'AC': 42218,\n",
       " 'ES': 42159,\n",
       " 'CE': 34864,\n",
       " 'RO': 28204,\n",
       " 'PA': 21794,\n",
       " 'DF': 20522,\n",
       " 'TO': 17383,\n",
       " 'RR': 11803,\n",
       " 'AM': 9750,\n",
       " 'RN': 9433,\n",
       " 'PI': 8799,\n",
       " 'PB': 8699,\n",
       " 'MA': 6746,\n",
       " 'RS': 4941,\n",
       " 'AP': 4467,\n",
       " 'SE': 2015,\n",
       " 'SC': 652}"
      ]
     },
     "execution_count": 17,
     "metadata": {},
     "output_type": "execute_result"
    }
   ],
   "source": [
    "a2.questao_5(CAMINHO)"
   ]
  },
  {
   "cell_type": "code",
   "execution_count": 18,
   "id": "c9413913",
   "metadata": {
    "ExecuteTime": {
     "end_time": "2023-06-20T23:21:27.719262Z",
     "start_time": "2023-06-20T23:21:21.841110Z"
    }
   },
   "outputs": [
    {
     "name": "stderr",
     "output_type": "stream",
     "text": [
      "/home/pedro/Modelos/Faculdade/IC/Projeto-A2-IC/Descrição/a2.py:54: DtypeWarning: Columns (8,9,14,17,18,19,59,66) have mixed types. Specify dtype option on import or set low_memory=False.\n",
      "  df = pd.read_csv(caminho)\n"
     ]
    },
    {
     "data": {
      "text/plain": [
       "{'SP': 140908,\n",
       " 'MG': 116775,\n",
       " 'GO': 52530,\n",
       " 'MS': 37625,\n",
       " 'PR': 30549,\n",
       " 'BA': 27334,\n",
       " 'PE': 25840,\n",
       " 'AL': 24146,\n",
       " 'MT': 21496,\n",
       " 'RJ': 20389,\n",
       " 'ES': 19718,\n",
       " 'AC': 19541,\n",
       " 'CE': 15482,\n",
       " 'RO': 13304,\n",
       " 'PA': 9994,\n",
       " 'DF': 9645,\n",
       " 'TO': 8201,\n",
       " 'RR': 5823,\n",
       " 'AM': 4521,\n",
       " 'RN': 4380,\n",
       " 'PB': 3738,\n",
       " 'PI': 3717,\n",
       " 'MA': 3189,\n",
       " 'RS': 2268,\n",
       " 'AP': 2063,\n",
       " 'SE': 993,\n",
       " 'SC': 403}"
      ]
     },
     "execution_count": 18,
     "metadata": {},
     "output_type": "execute_result"
    }
   ],
   "source": [
    "a2.questao_6(CAMINHO)"
   ]
  },
  {
   "cell_type": "code",
   "execution_count": 19,
   "id": "3f63e08d",
   "metadata": {
    "ExecuteTime": {
     "end_time": "2023-06-20T23:21:38.334966Z",
     "start_time": "2023-06-20T23:21:33.292090Z"
    }
   },
   "outputs": [
    {
     "name": "stderr",
     "output_type": "stream",
     "text": [
      "/home/pedro/Modelos/Faculdade/IC/Projeto-A2-IC/Descrição/a2.py:61: DtypeWarning: Columns (8,9,14,17,18,19,59,66) have mixed types. Specify dtype option on import or set low_memory=False.\n",
      "  df = pd.read_csv(caminho)\n"
     ]
    },
    {
     "data": {
      "text/plain": [
       "{'AC': 0.6818181818181818,\n",
       " 'AL': 0.9607843137254902,\n",
       " 'AP': 0.625,\n",
       " 'AM': 0.5,\n",
       " 'BA': 0.9184652278177458,\n",
       " 'CE': 0.9565217391304348,\n",
       " 'DF': 1.0,\n",
       " 'ES': 0.9487179487179487,\n",
       " 'GO': 0.975609756097561,\n",
       " 'MA': 0.631336405529954,\n",
       " 'MT': 0.9929078014184397,\n",
       " 'MS': 0.9873417721518988,\n",
       " 'MG': 0.7866354044548651,\n",
       " 'PA': 0.8541666666666666,\n",
       " 'PB': 0.7309417040358744,\n",
       " 'PR': 0.7644110275689223,\n",
       " 'PE': 0.9783783783783784,\n",
       " 'PI': 0.6875,\n",
       " 'RN': 0.7784431137724551,\n",
       " 'RS': 0.32193158953722334,\n",
       " 'RJ': 0.967032967032967,\n",
       " 'RO': 0.9807692307692307,\n",
       " 'RR': 1.0,\n",
       " 'SC': 0.3016949152542373,\n",
       " 'SP': 0.9302325581395349,\n",
       " 'SE': 0.8,\n",
       " 'TO': 0.9640287769784173}"
      ]
     },
     "execution_count": 19,
     "metadata": {},
     "output_type": "execute_result"
    }
   ],
   "source": [
    "a2.questao_7(CAMINHO)"
   ]
  },
  {
   "cell_type": "code",
   "execution_count": 20,
   "id": "9acc19e5",
   "metadata": {
    "ExecuteTime": {
     "end_time": "2023-06-20T23:21:46.241188Z",
     "start_time": "2023-06-20T23:21:39.643931Z"
    }
   },
   "outputs": [
    {
     "name": "stderr",
     "output_type": "stream",
     "text": [
      "/home/pedro/Modelos/Faculdade/IC/Projeto-A2-IC/Descrição/a2.py:79: DtypeWarning: Columns (8,9,14,17,18,19,59,66) have mixed types. Specify dtype option on import or set low_memory=False.\n",
      "  df = pd.read_csv(caminho)\n"
     ]
    },
    {
     "data": {
      "text/html": [
       "<div>\n",
       "<style scoped>\n",
       "    .dataframe tbody tr th:only-of-type {\n",
       "        vertical-align: middle;\n",
       "    }\n",
       "\n",
       "    .dataframe tbody tr th {\n",
       "        vertical-align: top;\n",
       "    }\n",
       "\n",
       "    .dataframe thead th {\n",
       "        text-align: right;\n",
       "    }\n",
       "</style>\n",
       "<table border=\"1\" class=\"dataframe\">\n",
       "  <thead>\n",
       "    <tr style=\"text-align: right;\">\n",
       "      <th></th>\n",
       "      <th>DT_NOTIFICACAO</th>\n",
       "      <th>DT_SINTOMAS</th>\n",
       "      <th>ATRASO_NOT</th>\n",
       "    </tr>\n",
       "  </thead>\n",
       "  <tbody>\n",
       "    <tr>\n",
       "      <th>0</th>\n",
       "      <td>2010-04-03</td>\n",
       "      <td>2010-03-25</td>\n",
       "      <td>9</td>\n",
       "    </tr>\n",
       "    <tr>\n",
       "      <th>1</th>\n",
       "      <td>2010-04-21</td>\n",
       "      <td>2010-04-14</td>\n",
       "      <td>7</td>\n",
       "    </tr>\n",
       "    <tr>\n",
       "      <th>2</th>\n",
       "      <td>2010-04-16</td>\n",
       "      <td>2010-04-08</td>\n",
       "      <td>8</td>\n",
       "    </tr>\n",
       "    <tr>\n",
       "      <th>3</th>\n",
       "      <td>2010-04-14</td>\n",
       "      <td>2010-04-07</td>\n",
       "      <td>7</td>\n",
       "    </tr>\n",
       "    <tr>\n",
       "      <th>4</th>\n",
       "      <td>2010-04-21</td>\n",
       "      <td>2010-04-14</td>\n",
       "      <td>7</td>\n",
       "    </tr>\n",
       "    <tr>\n",
       "      <th>...</th>\n",
       "      <td>...</td>\n",
       "      <td>...</td>\n",
       "      <td>...</td>\n",
       "    </tr>\n",
       "    <tr>\n",
       "      <th>1381249</th>\n",
       "      <td>2010-02-22</td>\n",
       "      <td>2010-02-16</td>\n",
       "      <td>6</td>\n",
       "    </tr>\n",
       "    <tr>\n",
       "      <th>1381250</th>\n",
       "      <td>2010-02-24</td>\n",
       "      <td>2010-02-20</td>\n",
       "      <td>4</td>\n",
       "    </tr>\n",
       "    <tr>\n",
       "      <th>1381251</th>\n",
       "      <td>2010-02-24</td>\n",
       "      <td>2010-02-20</td>\n",
       "      <td>4</td>\n",
       "    </tr>\n",
       "    <tr>\n",
       "      <th>1381252</th>\n",
       "      <td>2010-02-24</td>\n",
       "      <td>2010-02-23</td>\n",
       "      <td>1</td>\n",
       "    </tr>\n",
       "    <tr>\n",
       "      <th>1381253</th>\n",
       "      <td>2010-02-25</td>\n",
       "      <td>2010-02-22</td>\n",
       "      <td>3</td>\n",
       "    </tr>\n",
       "  </tbody>\n",
       "</table>\n",
       "<p>1381254 rows × 3 columns</p>\n",
       "</div>"
      ],
      "text/plain": [
       "        DT_NOTIFICACAO DT_SINTOMAS  ATRASO_NOT\n",
       "0           2010-04-03  2010-03-25           9\n",
       "1           2010-04-21  2010-04-14           7\n",
       "2           2010-04-16  2010-04-08           8\n",
       "3           2010-04-14  2010-04-07           7\n",
       "4           2010-04-21  2010-04-14           7\n",
       "...                ...         ...         ...\n",
       "1381249     2010-02-22  2010-02-16           6\n",
       "1381250     2010-02-24  2010-02-20           4\n",
       "1381251     2010-02-24  2010-02-20           4\n",
       "1381252     2010-02-24  2010-02-23           1\n",
       "1381253     2010-02-25  2010-02-22           3\n",
       "\n",
       "[1381254 rows x 3 columns]"
      ]
     },
     "execution_count": 20,
     "metadata": {},
     "output_type": "execute_result"
    }
   ],
   "source": [
    "a2.questao_8(CAMINHO)"
   ]
  },
  {
   "cell_type": "code",
   "execution_count": 21,
   "id": "980fb63c",
   "metadata": {
    "ExecuteTime": {
     "end_time": "2023-06-20T23:21:54.820911Z",
     "start_time": "2023-06-20T23:21:48.915524Z"
    }
   },
   "outputs": [
    {
     "name": "stderr",
     "output_type": "stream",
     "text": [
      "/home/pedro/Modelos/Faculdade/IC/Projeto-A2-IC/Descrição/a2.py:87: DtypeWarning: Columns (8,9,14,17,18,19,59,66) have mixed types. Specify dtype option on import or set low_memory=False.\n",
      "  df = pd.read_csv(caminho)\n"
     ]
    },
    {
     "data": {
      "text/plain": [
       "{'AC': (8.501823866597187, 252.41451445218348),\n",
       " 'AL': (26.69343038926273, 508.255040599689),\n",
       " 'AP': (43.30758898589657, 713.1463615233818),\n",
       " 'AM': (25.37446153846154, 533.5713814510613),\n",
       " 'BA': (28.26111227296858, 571.4780793872872),\n",
       " 'CE': (26.05733708122992, 547.1624959885435),\n",
       " 'DF': (38.19978559594581, 652.4994157045008),\n",
       " 'ES': (26.22588296686354, 553.2598246799856),\n",
       " 'GO': (40.46963861415864, 735.0332476613438),\n",
       " 'MA': (33.949006818855615, 543.6650885051893),\n",
       " 'MT': (15.419658906571968, 377.2212562775355),\n",
       " 'MS': (31.935146105768123, 645.4428137258569),\n",
       " 'MG': (25.06413890326112, 539.9465937298716),\n",
       " 'PA': (46.9520510232174, 744.9788809772151),\n",
       " 'PB': (22.592941717438787, 441.25933772319996),\n",
       " 'PR': (17.619524721319262, 444.35533389621787),\n",
       " 'PE': (23.09770047466497, 493.8771211885838),\n",
       " 'PI': (47.12262757131492, 756.5540203821572),\n",
       " 'RN': (46.63224848934591, 760.11186702294),\n",
       " 'RS': (18.951629224853267, 541.7635103078552),\n",
       " 'RJ': (50.10221268163804, 784.8705567509056),\n",
       " 'RO': (41.932420933200966, 751.6526642877637),\n",
       " 'RR': (8.21062441752097, 173.36573543519904),\n",
       " 'SC': (33.41411042944785, 528.7175891519249),\n",
       " 'SP': (14.364239170337738, 348.3606006524641),\n",
       " 'SE': (16.57518610421836, 361.1930484545478),\n",
       " 'TO': (8.232756141057354, 179.53587074565544)}"
      ]
     },
     "execution_count": 21,
     "metadata": {},
     "output_type": "execute_result"
    }
   ],
   "source": [
    "a2.questao_9(CAMINHO)"
   ]
  },
  {
   "cell_type": "code",
   "execution_count": 22,
   "id": "c4595262",
   "metadata": {
    "ExecuteTime": {
     "end_time": "2023-06-20T23:22:04.352764Z",
     "start_time": "2023-06-20T23:21:58.406095Z"
    }
   },
   "outputs": [
    {
     "name": "stderr",
     "output_type": "stream",
     "text": [
      "/home/pedro/Modelos/Faculdade/IC/Projeto-A2-IC/Descrição/a2.py:104: DtypeWarning: Columns (8,9,14,17,18,19,59,66) have mixed types. Specify dtype option on import or set low_memory=False.\n",
      "  df = pd.read_csv(caminho)\n",
      "/home/pedro/Modelos/Faculdade/IC/analise-pysus/venv/lib/python3.11/site-packages/pandas/plotting/_matplotlib/core.py:1114: UserWarning: No data for colormapping provided via 'c'. Parameters 'cmap' will be ignored\n",
      "  scatter = ax.scatter(\n"
     ]
    },
    {
     "data": {
      "text/plain": [
       "ID_MUNICIP\n",
       "110001    124.569620\n",
       "110002     85.008368\n",
       "110003      7.222222\n",
       "110004      5.623819\n",
       "110005     11.309392\n",
       "             ...    \n",
       "522200      9.671233\n",
       "522205    463.125000\n",
       "522220      3.125000\n",
       "522230      2.485714\n",
       "530010     38.199786\n",
       "Name: ATRASO_NOT, Length: 4307, dtype: float64"
      ]
     },
     "execution_count": 22,
     "metadata": {},
     "output_type": "execute_result"
    },
    {
     "data": {
      "image/png": "[encoded data removed]",
      "text/plain": [
       "<Figure size 640x480 with 1 Axes>"
      ]
     },
     "metadata": {},
     "output_type": "display_data"
    }
   ],
   "source": [
    "a2.questao_10(CAMINHO)"
   ]
  },
  {
   "cell_type": "code",
   "execution_count": 23,
   "id": "26277b4c",
   "metadata": {
    "ExecuteTime": {
     "end_time": "2023-06-20T23:22:23.591901Z",
     "start_time": "2023-06-20T23:22:23.546439Z"
    }
   },
   "outputs": [
    {
     "data": {
      "text/plain": [
       "4685"
      ]
     },
     "execution_count": 23,
     "metadata": {},
     "output_type": "execute_result"
    }
   ],
   "source": [
    "a2.questao_1()"
   ]
  },
  {
   "cell_type": "code",
   "execution_count": 24,
   "id": "046abc3a",
   "metadata": {
    "ExecuteTime": {
     "end_time": "2023-06-20T23:22:26.481587Z",
     "start_time": "2023-06-20T23:22:26.440463Z"
    }
   },
   "outputs": [
    {
     "data": {
      "text/plain": [
       "150010    521\n",
       "160030    368\n",
       "150140    332\n",
       "150080    270\n",
       "150130    263\n",
       "         ... \n",
       "130410      1\n",
       "221000      1\n",
       "293330      1\n",
       "231290      1\n",
       "510795      1\n",
       "Name: ID_MUNICIP, Length: 472, dtype: int64"
      ]
     },
     "execution_count": 24,
     "metadata": {},
     "output_type": "execute_result"
    }
   ],
   "source": [
    "a2.questao_2()"
   ]
  },
  {
   "cell_type": "code",
   "execution_count": 25,
   "id": "c19966d8",
   "metadata": {
    "ExecuteTime": {
     "end_time": "2023-06-20T23:22:34.109915Z",
     "start_time": "2023-06-20T23:22:34.072398Z"
    }
   },
   "outputs": [
    {
     "data": {
      "text/plain": [
       "('M', {'M': 2420, 'F': 2265})"
      ]
     },
     "execution_count": 25,
     "metadata": {},
     "output_type": "execute_result"
    }
   ],
   "source": [
    "a2.questao_3()"
   ]
  },
  {
   "cell_type": "code",
   "execution_count": 26,
   "id": "2140958a",
   "metadata": {
    "ExecuteTime": {
     "end_time": "2023-06-20T23:22:36.985544Z",
     "start_time": "2023-06-20T23:22:36.940284Z"
    }
   },
   "outputs": [
    {
     "data": {
      "text/plain": [
       "31.9842255717509"
      ]
     },
     "execution_count": 26,
     "metadata": {},
     "output_type": "execute_result"
    }
   ],
   "source": [
    "a2.questao_4()"
   ]
  },
  {
   "cell_type": "code",
   "execution_count": 27,
   "id": "6e4471e2",
   "metadata": {
    "ExecuteTime": {
     "end_time": "2023-06-20T23:22:39.919605Z",
     "start_time": "2023-06-20T23:22:39.873247Z"
    }
   },
   "outputs": [
    {
     "data": {
      "text/plain": [
       "{'PA': 2618,\n",
       " 'AP': 556,\n",
       " 'MG': 271,\n",
       " 'BA': 181,\n",
       " 'MA': 174,\n",
       " 'RO': 131,\n",
       " 'TO': 119,\n",
       " 'AM': 90,\n",
       " 'AC': 84,\n",
       " 'PB': 72,\n",
       " 'ES': 58,\n",
       " 'PR': 56,\n",
       " 'MT': 41,\n",
       " 'CE': 34,\n",
       " 'RS': 29,\n",
       " 'RJ': 27,\n",
       " 'AL': 27,\n",
       " 'GO': 22,\n",
       " 'PI': 19,\n",
       " 'SP': 19,\n",
       " 'SC': 13,\n",
       " 'PE': 12,\n",
       " 'RN': 11,\n",
       " 'MS': 7,\n",
       " 'SE': 7,\n",
       " 'DF': 4,\n",
       " 'RR': 3}"
      ]
     },
     "execution_count": 27,
     "metadata": {},
     "output_type": "execute_result"
    }
   ],
   "source": [
    "a2.questao_5()"
   ]
  },
  {
   "cell_type": "code",
   "execution_count": 28,
   "id": "080e2a03",
   "metadata": {
    "ExecuteTime": {
     "end_time": "2023-06-20T23:22:43.683858Z",
     "start_time": "2023-06-20T23:22:43.633868Z"
    }
   },
   "outputs": [
    {
     "data": {
      "text/plain": [
       "{'PA': 1344,\n",
       " 'AP': 308,\n",
       " 'MG': 136,\n",
       " 'BA': 85,\n",
       " 'MA': 82,\n",
       " 'RO': 78,\n",
       " 'TO': 77,\n",
       " 'AC': 47,\n",
       " 'AM': 42,\n",
       " 'PB': 36,\n",
       " 'ES': 30,\n",
       " 'PR': 29,\n",
       " 'MT': 22,\n",
       " 'RS': 16,\n",
       " 'CE': 14,\n",
       " 'RJ': 14,\n",
       " 'AL': 11,\n",
       " 'GO': 10,\n",
       " 'SP': 10,\n",
       " 'RN': 7,\n",
       " 'SC': 5,\n",
       " 'PI': 5,\n",
       " 'MS': 3,\n",
       " 'PE': 3,\n",
       " 'RR': 3,\n",
       " 'DF': 2,\n",
       " 'SE': 1}"
      ]
     },
     "execution_count": 28,
     "metadata": {},
     "output_type": "execute_result"
    }
   ],
   "source": [
    "a2.questao_6()"
   ]
  },
  {
   "cell_type": "code",
   "execution_count": 29,
   "id": "25155b64",
   "metadata": {
    "ExecuteTime": {
     "end_time": "2023-06-20T23:22:47.133269Z",
     "start_time": "2023-06-20T23:22:47.086902Z"
    }
   },
   "outputs": [
    {
     "data": {
      "text/plain": [
       "{'AC': 0.09090909090909091,\n",
       " 'AL': 0.12745098039215685,\n",
       " 'AP': 0.125,\n",
       " 'AM': 0.16129032258064516,\n",
       " 'BA': 0.16786570743405277,\n",
       " 'CE': 0.125,\n",
       " 'DF': 1.0,\n",
       " 'ES': 0.28205128205128205,\n",
       " 'GO': 0.07723577235772358,\n",
       " 'MA': 0.04608294930875576,\n",
       " 'MT': 0.0851063829787234,\n",
       " 'MS': 0.06329113924050633,\n",
       " 'MG': 0.06213364595545135,\n",
       " 'PA': 0.4791666666666667,\n",
       " 'PB': 0.10762331838565023,\n",
       " 'PR': 0.06516290726817042,\n",
       " 'PE': 0.04864864864864865,\n",
       " 'PI': 0.04017857142857143,\n",
       " 'RN': 0.04790419161676647,\n",
       " 'RS': 0.04225352112676056,\n",
       " 'RJ': 0.16483516483516483,\n",
       " 'RO': 0.25,\n",
       " 'RR': 0.06666666666666667,\n",
       " 'SC': 0.03728813559322034,\n",
       " 'SP': 0.021705426356589147,\n",
       " 'SE': 0.05333333333333334,\n",
       " 'TO': 0.04316546762589928}"
      ]
     },
     "execution_count": 29,
     "metadata": {},
     "output_type": "execute_result"
    }
   ],
   "source": [
    "a2.questao_7()"
   ]
  },
  {
   "cell_type": "code",
   "execution_count": 30,
   "id": "b3965289",
   "metadata": {
    "ExecuteTime": {
     "end_time": "2023-06-20T23:22:50.636021Z",
     "start_time": "2023-06-20T23:22:50.574297Z"
    }
   },
   "outputs": [
    {
     "name": "stderr",
     "output_type": "stream",
     "text": [
      "/home/pedro/Modelos/Faculdade/IC/Projeto-A2-IC/Descrição/a2.py:81: PerformanceWarning: DataFrame is highly fragmented.  This is usually the result of calling `frame.insert` many times, which has poor performance.  Consider joining all columns at once using pd.concat(axis=1) instead. To get a de-fragmented frame, use `newframe = frame.copy()`\n",
      "  df[\"DT_NOTIFICACAO\"] = pd.to_datetime(df[\"DT_NOTIFIC\"])\n",
      "/home/pedro/Modelos/Faculdade/IC/Projeto-A2-IC/Descrição/a2.py:82: PerformanceWarning: DataFrame is highly fragmented.  This is usually the result of calling `frame.insert` many times, which has poor performance.  Consider joining all columns at once using pd.concat(axis=1) instead. To get a de-fragmented frame, use `newframe = frame.copy()`\n",
      "  df[\"DT_SINTOMAS\"] = pd.to_datetime(df[\"DT_SIN_PRI\"])\n",
      "/home/pedro/Modelos/Faculdade/IC/Projeto-A2-IC/Descrição/a2.py:83: PerformanceWarning: DataFrame is highly fragmented.  This is usually the result of calling `frame.insert` many times, which has poor performance.  Consider joining all columns at once using pd.concat(axis=1) instead. To get a de-fragmented frame, use `newframe = frame.copy()`\n",
      "  df[\"ATRASO_NOT\"] = (df[\"DT_NOTIFICACAO\"] - df[\"DT_SINTOMAS\"]).dt.days\n"
     ]
    },
    {
     "data": {
      "text/html": [
       "<div>\n",
       "<style scoped>\n",
       "    .dataframe tbody tr th:only-of-type {\n",
       "        vertical-align: middle;\n",
       "    }\n",
       "\n",
       "    .dataframe tbody tr th {\n",
       "        vertical-align: top;\n",
       "    }\n",
       "\n",
       "    .dataframe thead th {\n",
       "        text-align: right;\n",
       "    }\n",
       "</style>\n",
       "<table border=\"1\" class=\"dataframe\">\n",
       "  <thead>\n",
       "    <tr style=\"text-align: right;\">\n",
       "      <th></th>\n",
       "      <th>DT_NOTIFICACAO</th>\n",
       "      <th>DT_SINTOMAS</th>\n",
       "      <th>ATRASO_NOT</th>\n",
       "    </tr>\n",
       "  </thead>\n",
       "  <tbody>\n",
       "    <tr>\n",
       "      <th>0</th>\n",
       "      <td>2018-12-19</td>\n",
       "      <td>2018-12-05</td>\n",
       "      <td>14</td>\n",
       "    </tr>\n",
       "    <tr>\n",
       "      <th>1</th>\n",
       "      <td>2018-11-30</td>\n",
       "      <td>2018-11-05</td>\n",
       "      <td>25</td>\n",
       "    </tr>\n",
       "    <tr>\n",
       "      <th>2</th>\n",
       "      <td>2018-10-03</td>\n",
       "      <td>2018-09-25</td>\n",
       "      <td>8</td>\n",
       "    </tr>\n",
       "    <tr>\n",
       "      <th>3</th>\n",
       "      <td>2018-01-09</td>\n",
       "      <td>2017-12-19</td>\n",
       "      <td>21</td>\n",
       "    </tr>\n",
       "    <tr>\n",
       "      <th>4</th>\n",
       "      <td>2018-08-11</td>\n",
       "      <td>2018-08-11</td>\n",
       "      <td>0</td>\n",
       "    </tr>\n",
       "    <tr>\n",
       "      <th>...</th>\n",
       "      <td>...</td>\n",
       "      <td>...</td>\n",
       "      <td>...</td>\n",
       "    </tr>\n",
       "    <tr>\n",
       "      <th>4680</th>\n",
       "      <td>2018-10-18</td>\n",
       "      <td>2018-10-10</td>\n",
       "      <td>8</td>\n",
       "    </tr>\n",
       "    <tr>\n",
       "      <th>4681</th>\n",
       "      <td>2018-02-21</td>\n",
       "      <td>2018-02-07</td>\n",
       "      <td>14</td>\n",
       "    </tr>\n",
       "    <tr>\n",
       "      <th>4682</th>\n",
       "      <td>2018-10-16</td>\n",
       "      <td>2018-04-17</td>\n",
       "      <td>182</td>\n",
       "    </tr>\n",
       "    <tr>\n",
       "      <th>4683</th>\n",
       "      <td>2018-09-11</td>\n",
       "      <td>2018-03-10</td>\n",
       "      <td>185</td>\n",
       "    </tr>\n",
       "    <tr>\n",
       "      <th>4684</th>\n",
       "      <td>2018-08-11</td>\n",
       "      <td>2018-09-30</td>\n",
       "      <td>-50</td>\n",
       "    </tr>\n",
       "  </tbody>\n",
       "</table>\n",
       "<p>4685 rows × 3 columns</p>\n",
       "</div>"
      ],
      "text/plain": [
       "     DT_NOTIFICACAO DT_SINTOMAS  ATRASO_NOT\n",
       "0        2018-12-19  2018-12-05          14\n",
       "1        2018-11-30  2018-11-05          25\n",
       "2        2018-10-03  2018-09-25           8\n",
       "3        2018-01-09  2017-12-19          21\n",
       "4        2018-08-11  2018-08-11           0\n",
       "...             ...         ...         ...\n",
       "4680     2018-10-18  2018-10-10           8\n",
       "4681     2018-02-21  2018-02-07          14\n",
       "4682     2018-10-16  2018-04-17         182\n",
       "4683     2018-09-11  2018-03-10         185\n",
       "4684     2018-08-11  2018-09-30         -50\n",
       "\n",
       "[4685 rows x 3 columns]"
      ]
     },
     "execution_count": 30,
     "metadata": {},
     "output_type": "execute_result"
    }
   ],
   "source": [
    "a2.questao_8()"
   ]
  },
  {
   "cell_type": "code",
   "execution_count": 31,
   "id": "a1120fdf",
   "metadata": {
    "ExecuteTime": {
     "end_time": "2023-06-20T23:22:53.592022Z",
     "start_time": "2023-06-20T23:22:53.533592Z"
    }
   },
   "outputs": [
    {
     "name": "stderr",
     "output_type": "stream",
     "text": [
      "/home/pedro/Modelos/Faculdade/IC/Projeto-A2-IC/Descrição/a2.py:91: PerformanceWarning: DataFrame is highly fragmented.  This is usually the result of calling `frame.insert` many times, which has poor performance.  Consider joining all columns at once using pd.concat(axis=1) instead. To get a de-fragmented frame, use `newframe = frame.copy()`\n",
      "  df[\"DT_NOTIFICACAO\"] = pd.to_datetime(df[\"DT_NOTIFIC\"])\n",
      "/home/pedro/Modelos/Faculdade/IC/Projeto-A2-IC/Descrição/a2.py:92: PerformanceWarning: DataFrame is highly fragmented.  This is usually the result of calling `frame.insert` many times, which has poor performance.  Consider joining all columns at once using pd.concat(axis=1) instead. To get a de-fragmented frame, use `newframe = frame.copy()`\n",
      "  df[\"DT_SINTOMAS\"] = pd.to_datetime(df[\"DT_SIN_PRI\"])\n",
      "/home/pedro/Modelos/Faculdade/IC/Projeto-A2-IC/Descrição/a2.py:93: PerformanceWarning: DataFrame is highly fragmented.  This is usually the result of calling `frame.insert` many times, which has poor performance.  Consider joining all columns at once using pd.concat(axis=1) instead. To get a de-fragmented frame, use `newframe = frame.copy()`\n",
      "  df[\"ATRASO_NOT\"] = (df[\"DT_NOTIFICACAO\"] - df[\"DT_SINTOMAS\"]).dt.days\n"
     ]
    },
    {
     "data": {
      "text/plain": [
       "{'AC': (29.94047619047619, 60.464338028828905),\n",
       " 'AL': (64.62962962962963, 90.89983843099297),\n",
       " 'AP': (21.798561151079138, 33.649101800494435),\n",
       " 'AM': (7.466666666666667, 23.3763541337025),\n",
       " 'BA': (31.23756906077348, 61.19280933294128),\n",
       " 'CE': (104.97058823529412, 318.4879508965922),\n",
       " 'DF': (62.5, 111.09305408830322),\n",
       " 'ES': (25.96551724137931, 47.30637934698395),\n",
       " 'GO': (51.09090909090909, 68.31921509732932),\n",
       " 'MA': (14.160919540229886, 13.442124765999708),\n",
       " 'MT': (16.951219512195124, 43.064458210635955),\n",
       " 'MS': (24.0, 57.49202843293437),\n",
       " 'MG': (29.461254612546124, 43.640167666676916),\n",
       " 'PA': (22.052711993888465, 35.02722739058979),\n",
       " 'PB': (43.44444444444444, 48.0811780950816),\n",
       " 'PR': (35.839285714285715, 65.05571787761187),\n",
       " 'PE': (23.25, 22.676078705423155),\n",
       " 'PI': (33.10526315789474, 62.90018083072585),\n",
       " 'RN': (33.90909090909091, 49.053959158164886),\n",
       " 'RS': (47.3448275862069, 75.79260982730109),\n",
       " 'RJ': (14.185185185185185, 28.490264244038816),\n",
       " 'RO': (37.221374045801525, 64.08051306770687),\n",
       " 'RR': (12.333333333333334, 13.576941236277534),\n",
       " 'SC': (43.0, 52.06726418777925),\n",
       " 'SP': (38.10526315789474, 67.7437120795413),\n",
       " 'SE': (30.285714285714285, 35.29265403127722),\n",
       " 'TO': (24.630252100840337, 28.13793673733402)}"
      ]
     },
     "execution_count": 31,
     "metadata": {},
     "output_type": "execute_result"
    }
   ],
   "source": [
    "a2.questao_9()"
   ]
  },
  {
   "cell_type": "code",
   "execution_count": 32,
   "id": "92d48134",
   "metadata": {
    "ExecuteTime": {
     "end_time": "2023-06-20T23:22:56.629206Z",
     "start_time": "2023-06-20T23:22:56.448274Z"
    }
   },
   "outputs": [
    {
     "name": "stderr",
     "output_type": "stream",
     "text": [
      "/home/pedro/Modelos/Faculdade/IC/Projeto-A2-IC/Descrição/a2.py:106: PerformanceWarning: DataFrame is highly fragmented.  This is usually the result of calling `frame.insert` many times, which has poor performance.  Consider joining all columns at once using pd.concat(axis=1) instead. To get a de-fragmented frame, use `newframe = frame.copy()`\n",
      "  df[\"DT_NOTIFICACAO\"] = pd.to_datetime(df[\"DT_NOTIFIC\"])\n",
      "/home/pedro/Modelos/Faculdade/IC/Projeto-A2-IC/Descrição/a2.py:107: PerformanceWarning: DataFrame is highly fragmented.  This is usually the result of calling `frame.insert` many times, which has poor performance.  Consider joining all columns at once using pd.concat(axis=1) instead. To get a de-fragmented frame, use `newframe = frame.copy()`\n",
      "  df[\"DT_SINTOMAS\"] = pd.to_datetime(df[\"DT_SIN_PRI\"])\n",
      "/home/pedro/Modelos/Faculdade/IC/Projeto-A2-IC/Descrição/a2.py:108: PerformanceWarning: DataFrame is highly fragmented.  This is usually the result of calling `frame.insert` many times, which has poor performance.  Consider joining all columns at once using pd.concat(axis=1) instead. To get a de-fragmented frame, use `newframe = frame.copy()`\n",
      "  df[\"ATRASO_NOT\"] = (df[\"DT_NOTIFICACAO\"] - df[\"DT_SINTOMAS\"]).dt.days\n",
      "/home/pedro/Modelos/Faculdade/IC/analise-pysus/venv/lib/python3.11/site-packages/pandas/plotting/_matplotlib/core.py:1114: UserWarning: No data for colormapping provided via 'c'. Parameters 'cmap' will be ignored\n",
      "  scatter = ax.scatter(\n"
     ]
    },
    {
     "data": {
      "text/plain": [
       "ID_MUNICIP\n",
       "110008    143.000000\n",
       "110009     32.333333\n",
       "110012     41.183673\n",
       "110013     20.857143\n",
       "110020     16.250000\n",
       "             ...    \n",
       "521720     44.000000\n",
       "521730      8.000000\n",
       "521800      0.000000\n",
       "522005      0.000000\n",
       "530010     62.500000\n",
       "Name: ATRASO_NOT, Length: 472, dtype: float64"
      ]
     },
     "execution_count": 32,
     "metadata": {},
     "output_type": "execute_result"
    },
    {
     "data": {
      "image/png": "[encoded data removed]",
      "text/plain": [
       "<Figure size 640x480 with 1 Axes>"
      ]
     },
     "metadata": {},
     "output_type": "display_data"
    }
   ],
   "source": [
    "a2.questao_10()"
   ]
  },
  {
   "cell_type": "code",
   "execution_count": null,
   "id": "21ac1f86",
   "metadata": {},
   "outputs": [],
   "source": []
  }
 ],
 "metadata": {
  "kernelspec": {
   "display_name": "IC",
   "language": "python",
   "name": "ic"
  },
  "language_info": {
   "codemirror_mode": {
    "name": "ipython",
    "version": 3
   },
   "file_extension": ".py",
   "mimetype": "text/x-python",
   "name": "python",
   "nbconvert_exporter": "python",
   "pygments_lexer": "ipython3",
   "version": "3.11.3"
  },
  "varInspector": {
   "cols": {
    "lenName": 16,
    "lenType": 16,
    "lenVar": 40
   },
   "kernels_config": {
    "python": {
     "delete_cmd_postfix": "",
     "delete_cmd_prefix": "del ",
     "library": "var_list.py",
     "varRefreshCmd": "print(var_dic_list())"
    },
    "r": {
     "delete_cmd_postfix": ") ",
     "delete_cmd_prefix": "rm(",
     "library": "var_list.r",
     "varRefreshCmd": "cat(var_dic_list()) "
    }
   },
   "types_to_exclude": [
    "module",
    "function",
    "builtin_function_or_method",
    "instance",
    "_Feature"
   ],
   "window_display": false
  }
 },
 "nbformat": 4,
 "nbformat_minor": 5
}
