{
 "cells": [
  {
   "cell_type": "code",
   "execution_count": 1,
   "id": "3d7f2d8f",
   "metadata": {
    "ExecuteTime": {
     "end_time": "2023-06-05T21:59:25.928614Z",
     "start_time": "2023-06-05T21:59:25.589404Z"
    }
   },
   "outputs": [],
   "source": [
    "import a2\n",
    "import pandas as pd\n",
    "CAMINHO = \"paralisiainfantil.csv\""
   ]
  },
  {
   "cell_type": "code",
   "execution_count": null,
   "id": "ea11b3de",
   "metadata": {
    "ExecuteTime": {
     "end_time": "2023-06-05T21:59:26.097546Z",
     "start_time": "2023-06-05T21:59:26.097539Z"
    }
   },
   "outputs": [],
   "source": [
    "a2.questao_1(CAMINHO)"
   ]
  },
  {
   "cell_type": "code",
   "execution_count": 2,
   "id": "dbd84b80",
   "metadata": {
    "ExecuteTime": {
     "end_time": "2023-06-05T21:59:26.648362Z",
     "start_time": "2023-06-05T21:59:26.633357Z"
    }
   },
   "outputs": [
    {
     "data": {
      "text/plain": [
       "261160    62\n",
       "355030    28\n",
       "211130    21\n",
       "130260    20\n",
       "250750    18\n",
       "          ..\n",
       "430460     1\n",
       "170255     1\n",
       "421580     1\n",
       "353080     1\n",
       "171880     1\n",
       "Name: ID_MUNICIP, Length: 120, dtype: int64"
      ]
     },
     "execution_count": 2,
     "metadata": {},
     "output_type": "execute_result"
    }
   ],
   "source": [
    "a2.questao_2(CAMINHO)"
   ]
  },
  {
   "cell_type": "code",
   "execution_count": 3,
   "id": "91b4e335",
   "metadata": {
    "ExecuteTime": {
     "end_time": "2023-06-05T21:59:27.038479Z",
     "start_time": "2023-06-05T21:59:27.036544Z"
    }
   },
   "outputs": [
    {
     "name": "stdout",
     "output_type": "stream",
     "text": [
      "['AUTORES', '__builtins__', '__cached__', '__doc__', '__file__', '__loader__', '__name__', '__package__', '__spec__', 'mp', 'pd', 'questao_1', 'questao_10', 'questao_2', 'questao_3', 'questao_4', 'questao_5', 'questao_6', 'questao_7', 'questao_8', 'questao_9']\n"
     ]
    }
   ],
   "source": [
    "print(dir(a2))"
   ]
  },
  {
   "cell_type": "code",
   "execution_count": 4,
   "id": "ae59e191",
   "metadata": {
    "ExecuteTime": {
     "end_time": "2023-06-05T21:59:27.724647Z",
     "start_time": "2023-06-05T21:59:27.702512Z"
    }
   },
   "outputs": [
    {
     "data": {
      "text/plain": [
       "('M', {'M': 271, 'F': 204})"
      ]
     },
     "execution_count": 4,
     "metadata": {},
     "output_type": "execute_result"
    }
   ],
   "source": [
    "a2.questao_3(CAMINHO)"
   ]
  },
  {
   "cell_type": "code",
   "execution_count": 5,
   "id": "af2c8238",
   "metadata": {
    "ExecuteTime": {
     "end_time": "2023-06-05T21:59:28.023907Z",
     "start_time": "2023-06-05T21:59:27.994195Z"
    }
   },
   "outputs": [
    {
     "name": "stderr",
     "output_type": "stream",
     "text": [
      "/home/pedro/Modelos/Python/Aulas IC/Projeto-A2-IC/Descrição/a2.py:65: PerformanceWarning: DataFrame is highly fragmented.  This is usually the result of calling `frame.insert` many times, which has poor performance.  Consider joining all columns at once using pd.concat(axis=1) instead. To get a de-fragmented frame, use `newframe = frame.copy()`\n",
      "  df[\"DT_NOTIFICACAO\"] = pd.to_datetime(df[\"DT_NOTIFIC\"])\n",
      "/home/pedro/Modelos/Python/Aulas IC/Projeto-A2-IC/Descrição/a2.py:66: PerformanceWarning: DataFrame is highly fragmented.  This is usually the result of calling `frame.insert` many times, which has poor performance.  Consider joining all columns at once using pd.concat(axis=1) instead. To get a de-fragmented frame, use `newframe = frame.copy()`\n",
      "  df[\"DT_SINTOMAS\"] = pd.to_datetime(df[\"DT_SIN_PRI\"])\n",
      "/home/pedro/Modelos/Python/Aulas IC/Projeto-A2-IC/Descrição/a2.py:67: PerformanceWarning: DataFrame is highly fragmented.  This is usually the result of calling `frame.insert` many times, which has poor performance.  Consider joining all columns at once using pd.concat(axis=1) instead. To get a de-fragmented frame, use `newframe = frame.copy()`\n",
      "  df[\"ATRASO_NOT\"] = (df[\"DT_NOTIFICACAO\"] - df[\"DT_SINTOMAS\"]).dt.days\n"
     ]
    },
    {
     "data": {
      "text/html": [
       "<div>\n",
       "<style scoped>\n",
       "    .dataframe tbody tr th:only-of-type {\n",
       "        vertical-align: middle;\n",
       "    }\n",
       "\n",
       "    .dataframe tbody tr th {\n",
       "        vertical-align: top;\n",
       "    }\n",
       "\n",
       "    .dataframe thead th {\n",
       "        text-align: right;\n",
       "    }\n",
       "</style>\n",
       "<table border=\"1\" class=\"dataframe\">\n",
       "  <thead>\n",
       "    <tr style=\"text-align: right;\">\n",
       "      <th></th>\n",
       "      <th>DT_NOTIFICACAO</th>\n",
       "      <th>DT_SINTOMAS</th>\n",
       "      <th>ATRASO_NOT</th>\n",
       "    </tr>\n",
       "  </thead>\n",
       "  <tbody>\n",
       "    <tr>\n",
       "      <th>0</th>\n",
       "      <td>2015-01-05</td>\n",
       "      <td>2015-01-03</td>\n",
       "      <td>2</td>\n",
       "    </tr>\n",
       "    <tr>\n",
       "      <th>1</th>\n",
       "      <td>2015-01-06</td>\n",
       "      <td>2015-01-05</td>\n",
       "      <td>1</td>\n",
       "    </tr>\n",
       "    <tr>\n",
       "      <th>2</th>\n",
       "      <td>2015-01-06</td>\n",
       "      <td>2015-01-01</td>\n",
       "      <td>5</td>\n",
       "    </tr>\n",
       "    <tr>\n",
       "      <th>3</th>\n",
       "      <td>2015-01-12</td>\n",
       "      <td>2015-01-06</td>\n",
       "      <td>6</td>\n",
       "    </tr>\n",
       "    <tr>\n",
       "      <th>4</th>\n",
       "      <td>2015-01-12</td>\n",
       "      <td>2015-01-10</td>\n",
       "      <td>2</td>\n",
       "    </tr>\n",
       "    <tr>\n",
       "      <th>...</th>\n",
       "      <td>...</td>\n",
       "      <td>...</td>\n",
       "      <td>...</td>\n",
       "    </tr>\n",
       "    <tr>\n",
       "      <th>470</th>\n",
       "      <td>2016-01-29</td>\n",
       "      <td>2015-12-24</td>\n",
       "      <td>36</td>\n",
       "    </tr>\n",
       "    <tr>\n",
       "      <th>471</th>\n",
       "      <td>2016-02-01</td>\n",
       "      <td>2015-12-31</td>\n",
       "      <td>32</td>\n",
       "    </tr>\n",
       "    <tr>\n",
       "      <th>472</th>\n",
       "      <td>2016-02-03</td>\n",
       "      <td>2015-12-11</td>\n",
       "      <td>54</td>\n",
       "    </tr>\n",
       "    <tr>\n",
       "      <th>473</th>\n",
       "      <td>2016-02-18</td>\n",
       "      <td>2015-12-06</td>\n",
       "      <td>74</td>\n",
       "    </tr>\n",
       "    <tr>\n",
       "      <th>474</th>\n",
       "      <td>2016-02-19</td>\n",
       "      <td>2015-10-04</td>\n",
       "      <td>138</td>\n",
       "    </tr>\n",
       "  </tbody>\n",
       "</table>\n",
       "<p>475 rows × 3 columns</p>\n",
       "</div>"
      ],
      "text/plain": [
       "    DT_NOTIFICACAO DT_SINTOMAS  ATRASO_NOT\n",
       "0       2015-01-05  2015-01-03           2\n",
       "1       2015-01-06  2015-01-05           1\n",
       "2       2015-01-06  2015-01-01           5\n",
       "3       2015-01-12  2015-01-06           6\n",
       "4       2015-01-12  2015-01-10           2\n",
       "..             ...         ...         ...\n",
       "470     2016-01-29  2015-12-24          36\n",
       "471     2016-02-01  2015-12-31          32\n",
       "472     2016-02-03  2015-12-11          54\n",
       "473     2016-02-18  2015-12-06          74\n",
       "474     2016-02-19  2015-10-04         138\n",
       "\n",
       "[475 rows x 3 columns]"
      ]
     },
     "execution_count": 5,
     "metadata": {},
     "output_type": "execute_result"
    }
   ],
   "source": [
    "a2.questao_8(CAMINHO)"
   ]
  },
  {
   "cell_type": "code",
   "execution_count": 6,
   "id": "e7eceaa2",
   "metadata": {
    "ExecuteTime": {
     "end_time": "2023-06-05T21:59:28.453909Z",
     "start_time": "2023-06-05T21:59:28.435313Z"
    }
   },
   "outputs": [
    {
     "data": {
      "text/html": [
       "<div>\n",
       "<style scoped>\n",
       "    .dataframe tbody tr th:only-of-type {\n",
       "        vertical-align: middle;\n",
       "    }\n",
       "\n",
       "    .dataframe tbody tr th {\n",
       "        vertical-align: top;\n",
       "    }\n",
       "\n",
       "    .dataframe thead th {\n",
       "        text-align: right;\n",
       "    }\n",
       "</style>\n",
       "<table border=\"1\" class=\"dataframe\">\n",
       "  <thead>\n",
       "    <tr style=\"text-align: right;\">\n",
       "      <th></th>\n",
       "      <th>DT_NOTIFICACAO</th>\n",
       "      <th>DT_SINTOMAS</th>\n",
       "      <th>ATRASO_NOT</th>\n",
       "    </tr>\n",
       "  </thead>\n",
       "  <tbody>\n",
       "    <tr>\n",
       "      <th>0</th>\n",
       "      <td>1970-01-01 00:00:00.020150105</td>\n",
       "      <td>1970-01-01 00:00:00.020150103</td>\n",
       "      <td>2</td>\n",
       "    </tr>\n",
       "    <tr>\n",
       "      <th>1</th>\n",
       "      <td>1970-01-01 00:00:00.020150106</td>\n",
       "      <td>1970-01-01 00:00:00.020150105</td>\n",
       "      <td>1</td>\n",
       "    </tr>\n",
       "    <tr>\n",
       "      <th>2</th>\n",
       "      <td>1970-01-01 00:00:00.020150106</td>\n",
       "      <td>1970-01-01 00:00:00.020150101</td>\n",
       "      <td>5</td>\n",
       "    </tr>\n",
       "    <tr>\n",
       "      <th>3</th>\n",
       "      <td>1970-01-01 00:00:00.020150112</td>\n",
       "      <td>1970-01-01 00:00:00.020150106</td>\n",
       "      <td>6</td>\n",
       "    </tr>\n",
       "    <tr>\n",
       "      <th>4</th>\n",
       "      <td>1970-01-01 00:00:00.020150112</td>\n",
       "      <td>1970-01-01 00:00:00.020150110</td>\n",
       "      <td>2</td>\n",
       "    </tr>\n",
       "    <tr>\n",
       "      <th>...</th>\n",
       "      <td>...</td>\n",
       "      <td>...</td>\n",
       "      <td>...</td>\n",
       "    </tr>\n",
       "    <tr>\n",
       "      <th>470</th>\n",
       "      <td>1970-01-01 00:00:00.020160129</td>\n",
       "      <td>1970-01-01 00:00:00.020151224</td>\n",
       "      <td>8905</td>\n",
       "    </tr>\n",
       "    <tr>\n",
       "      <th>471</th>\n",
       "      <td>1970-01-01 00:00:00.020160201</td>\n",
       "      <td>1970-01-01 00:00:00.020151231</td>\n",
       "      <td>8970</td>\n",
       "    </tr>\n",
       "    <tr>\n",
       "      <th>472</th>\n",
       "      <td>1970-01-01 00:00:00.020160203</td>\n",
       "      <td>1970-01-01 00:00:00.020151211</td>\n",
       "      <td>8992</td>\n",
       "    </tr>\n",
       "    <tr>\n",
       "      <th>473</th>\n",
       "      <td>1970-01-01 00:00:00.020160218</td>\n",
       "      <td>1970-01-01 00:00:00.020151206</td>\n",
       "      <td>9012</td>\n",
       "    </tr>\n",
       "    <tr>\n",
       "      <th>474</th>\n",
       "      <td>1970-01-01 00:00:00.020160219</td>\n",
       "      <td>1970-01-01 00:00:00.020151004</td>\n",
       "      <td>9215</td>\n",
       "    </tr>\n",
       "  </tbody>\n",
       "</table>\n",
       "<p>475 rows × 3 columns</p>\n",
       "</div>"
      ],
      "text/plain": [
       "                   DT_NOTIFICACAO                   DT_SINTOMAS  ATRASO_NOT\n",
       "0   1970-01-01 00:00:00.020150105 1970-01-01 00:00:00.020150103           2\n",
       "1   1970-01-01 00:00:00.020150106 1970-01-01 00:00:00.020150105           1\n",
       "2   1970-01-01 00:00:00.020150106 1970-01-01 00:00:00.020150101           5\n",
       "3   1970-01-01 00:00:00.020150112 1970-01-01 00:00:00.020150106           6\n",
       "4   1970-01-01 00:00:00.020150112 1970-01-01 00:00:00.020150110           2\n",
       "..                            ...                           ...         ...\n",
       "470 1970-01-01 00:00:00.020160129 1970-01-01 00:00:00.020151224        8905\n",
       "471 1970-01-01 00:00:00.020160201 1970-01-01 00:00:00.020151231        8970\n",
       "472 1970-01-01 00:00:00.020160203 1970-01-01 00:00:00.020151211        8992\n",
       "473 1970-01-01 00:00:00.020160218 1970-01-01 00:00:00.020151206        9012\n",
       "474 1970-01-01 00:00:00.020160219 1970-01-01 00:00:00.020151004        9215\n",
       "\n",
       "[475 rows x 3 columns]"
      ]
     },
     "execution_count": 6,
     "metadata": {},
     "output_type": "execute_result"
    }
   ],
   "source": [
    "df = pd.read_csv(CAMINHO)\n",
    "df[\"DT_NOTIFICACAO\"] = pd.to_datetime(df[\"DT_NOTIFIC\"])\n",
    "df[\"DT_SINTOMAS\"] = pd.to_datetime(df[\"DT_SIN_PRI\"])\n",
    "df[\"ATRASO_NOT\"] = df[\"DT_NOTIFIC\"] - df[\"DT_SIN_PRI\"]\n",
    "df[[\"DT_NOTIFICACAO\", \"DT_SINTOMAS\", \"ATRASO_NOT\"]]"
   ]
  },
  {
   "cell_type": "code",
   "execution_count": 7,
   "id": "d318c2d0",
   "metadata": {
    "ExecuteTime": {
     "end_time": "2023-06-05T21:59:28.922919Z",
     "start_time": "2023-06-05T21:59:28.905807Z"
    }
   },
   "outputs": [
    {
     "name": "stdout",
     "output_type": "stream",
     "text": [
      "<class 'pandas.core.frame.DataFrame'>\n",
      "RangeIndex: 475 entries, 0 to 474\n",
      "Columns: 169 entries, Unnamed: 0 to DT_ENCERRA\n",
      "dtypes: int64(25), object(144)\n",
      "memory usage: 627.3+ KB\n"
     ]
    }
   ],
   "source": [
    "pd.read_csv(CAMINHO).info()"
   ]
  },
  {
   "cell_type": "code",
   "execution_count": null,
   "id": "69b2d56d",
   "metadata": {},
   "outputs": [],
   "source": []
  },
  {
   "cell_type": "code",
   "execution_count": null,
   "id": "096a35b9",
   "metadata": {},
   "outputs": [],
   "source": []
  }
 ],
 "metadata": {
  "kernelspec": {
   "display_name": "pythonsus",
   "language": "python",
   "name": "pythonsus"
  },
  "language_info": {
   "codemirror_mode": {
    "name": "ipython",
    "version": 3
   },
   "file_extension": ".py",
   "mimetype": "text/x-python",
   "name": "python",
   "nbconvert_exporter": "python",
   "pygments_lexer": "ipython3",
   "version": "3.10.11"
  },
  "varInspector": {
   "cols": {
    "lenName": 16,
    "lenType": 16,
    "lenVar": 40
   },
   "kernels_config": {
    "python": {
     "delete_cmd_postfix": "",
     "delete_cmd_prefix": "del ",
     "library": "var_list.py",
     "varRefreshCmd": "print(var_dic_list())"
    },
    "r": {
     "delete_cmd_postfix": ") ",
     "delete_cmd_prefix": "rm(",
     "library": "var_list.r",
     "varRefreshCmd": "cat(var_dic_list()) "
    }
   },
   "types_to_exclude": [
    "module",
    "function",
    "builtin_function_or_method",
    "instance",
    "_Feature"
   ],
   "window_display": false
  }
 },
 "nbformat": 4,
 "nbformat_minor": 5
}
